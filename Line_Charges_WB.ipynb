{
 "cells": [
  {
   "cell_type": "markdown",
   "id": "7fcb6aae-6299-4d4c-a704-86b517f813c4",
   "metadata": {},
   "source": [
    "# สนามไฟฟ้าเนื่องจากประจุแบบเส้น"
   ]
  },
  {
   "cell_type": "markdown",
   "id": "a8e501d7-c1a7-4125-a494-c47bcf2cfec4",
   "metadata": {},
   "source": [
    "หาสนามไฟฟ้าเนื่องจากประจุแบบจุดหลายตัว ขนาดตัวละ $1~\\mu C$ วางอยู่บนเส้นตรงยาว $1~m$ โดยมีระยะห่างกัน $1~cm$"
   ]
  },
  {
   "cell_type": "code",
   "execution_count": null,
   "id": "44e46f14-3eba-46ef-b1fa-20a316cb45be",
   "metadata": {},
   "outputs": [],
   "source": []
  },
  {
   "cell_type": "code",
   "execution_count": null,
   "id": "6f84f33a-246e-4c2c-89a5-d2acd7f2d912",
   "metadata": {},
   "outputs": [],
   "source": []
  },
  {
   "cell_type": "code",
   "execution_count": null,
   "id": "3e547b18-4647-46a5-8dbe-6c542dc0f1bc",
   "metadata": {},
   "outputs": [],
   "source": []
  },
  {
   "cell_type": "code",
   "execution_count": null,
   "id": "dd38b040-92bf-4802-8c55-a3d2fd737193",
   "metadata": {},
   "outputs": [],
   "source": []
  },
  {
   "cell_type": "code",
   "execution_count": null,
   "id": "428ed7da-8da1-453d-bae1-20af5fe1e182",
   "metadata": {},
   "outputs": [],
   "source": []
  },
  {
   "cell_type": "code",
   "execution_count": null,
   "id": "1c191f1a-22d8-4593-a689-7ffea2249343",
   "metadata": {},
   "outputs": [],
   "source": []
  },
  {
   "cell_type": "code",
   "execution_count": null,
   "id": "7a7d6658-0395-40da-a8e0-ac908fe077d0",
   "metadata": {},
   "outputs": [],
   "source": []
  },
  {
   "cell_type": "code",
   "execution_count": null,
   "id": "2f4e9766-5cfe-4333-b76c-471b8037ea7e",
   "metadata": {},
   "outputs": [],
   "source": []
  },
  {
   "cell_type": "markdown",
   "id": "33e3f149-1f2c-4c4b-8dbe-7866e73618d8",
   "metadata": {},
   "source": [
    "## สนามไฟฟ้าจากประจุรูปแบบใด ๆ\n",
    "$$\\mathbf{dE}=\\frac{dq}{4\\pi\\epsilon_0}\\frac{\\mathbf{r-r'}}{|\\mathbf{r-r'}|^3}$$\n",
    "$$\\mathbf{E(r)}=\\int\\mathbf{dE}$$\n",
    "\n",
    "Line Charge Definition\n",
    "$$dq=\\rho_l(r')d\\mathbf{r'}$$\n",
    "\n",
    "Parameterised\n",
    "$$dq=\\rho_l(r')\\left\\|\\frac{d\\mathbf{r'}}{dt}\\right\\|dt$$"
   ]
  },
  {
   "cell_type": "markdown",
   "id": "7e9f4b02-f086-41fb-9be2-6b2b7e6715b8",
   "metadata": {},
   "source": [
    "จงหาสนามไฟฟ้าเนื่องจากประจุแบบเส้นยาว $10~m$ ที่วางอยู่บนแนวแกน $y$ โดยที่ประจุนี้มีความหนาแน่นประจุสม่ำเสมอ $\\rho_l=1~\\mu C/m$\n",
    "\n",
    "ในกรณีนี้\n",
    "$$\\mathbf{r'}=\n",
    "\\begin{bmatrix}\n",
    "0\\\\\n",
    "t\n",
    "\\end{bmatrix}$$"
   ]
  },
  {
   "cell_type": "code",
   "execution_count": null,
   "id": "372d2cc5-c4b3-43cd-aa41-0c290a637627",
   "metadata": {},
   "outputs": [],
   "source": []
  },
  {
   "cell_type": "code",
   "execution_count": null,
   "id": "78c90067-8881-42cd-99d6-5016ff29ac3a",
   "metadata": {},
   "outputs": [],
   "source": []
  },
  {
   "cell_type": "code",
   "execution_count": null,
   "id": "7573e0ac-74b9-4900-a4c6-ce624f6e9833",
   "metadata": {},
   "outputs": [],
   "source": []
  },
  {
   "cell_type": "code",
   "execution_count": null,
   "id": "e4b08dba-4c3a-46cf-98c8-135353c21a06",
   "metadata": {},
   "outputs": [],
   "source": []
  },
  {
   "cell_type": "code",
   "execution_count": null,
   "id": "e6aa0a8c-e7fb-44e6-a2bf-c81251099799",
   "metadata": {},
   "outputs": [],
   "source": []
  },
  {
   "cell_type": "code",
   "execution_count": null,
   "id": "6213794b-ac32-458c-85b1-b9272b67b369",
   "metadata": {},
   "outputs": [],
   "source": []
  },
  {
   "cell_type": "code",
   "execution_count": null,
   "id": "005af06c-37e3-435c-8bad-932e6c798e25",
   "metadata": {},
   "outputs": [],
   "source": []
  },
  {
   "cell_type": "code",
   "execution_count": null,
   "id": "01299dd5-3040-4a20-95bf-4108cf29e7c7",
   "metadata": {},
   "outputs": [],
   "source": []
  },
  {
   "cell_type": "code",
   "execution_count": null,
   "id": "4cd6f0a1-4961-4cae-ab81-82e489760a1f",
   "metadata": {},
   "outputs": [],
   "source": []
  },
  {
   "cell_type": "code",
   "execution_count": null,
   "id": "ec9cfe44-9d63-4425-a487-73e4b64a6a50",
   "metadata": {},
   "outputs": [],
   "source": []
  }
 ],
 "metadata": {
  "kernelspec": {
   "display_name": "Python 3 (ipykernel)",
   "language": "python",
   "name": "python3"
  },
  "language_info": {
   "codemirror_mode": {
    "name": "ipython",
    "version": 3
   },
   "file_extension": ".py",
   "mimetype": "text/x-python",
   "name": "python",
   "nbconvert_exporter": "python",
   "pygments_lexer": "ipython3",
   "version": "3.11.7"
  }
 },
 "nbformat": 4,
 "nbformat_minor": 5
}
