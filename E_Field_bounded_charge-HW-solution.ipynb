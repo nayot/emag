{
 "cells": [
  {
   "cell_type": "markdown",
   "id": "f16041f9-3d01-4309-a93c-1915339c615b",
   "metadata": {
    "tags": []
   },
   "source": [
    "## สนามไฟฟ้าจากประจุใด ๆ\n",
    "$$\\mathbf{dE}=\\frac{dq}{4\\pi\\epsilon_0}\\frac{\\mathbf{r-r'}}{|\\mathbf{r-r'}|^3}$$\n",
    "$$\\mathbf{E(r)}=\\int\\mathbf{dE}$$\n",
    "\n",
    "### Line Charge\n",
    "$$dq=\\rho_l(r')|d\\mathbf{r'}|$$\n",
    "\n",
    "Parameterised\n",
    "$$dq=\\rho_l(r')\\left\\|\\frac{d\\mathbf{r'}}{dt}\\right\\|dt$$\n",
    "\n",
    "## Surface Charge\n",
    "$$dq=\\rho_s(r')ds$$\n",
    "Parameterised\n",
    "$$dq=\\rho_l(r')\\left\\|\\frac{d\\mathbf{r'}}{du}\\times\\frac{d\\mathbf{r'}}{dv}\\right\\|dudv$$"
   ]
  },
  {
   "cell_type": "markdown",
   "id": "e7fdfefe-559b-4776-b569-d40fcbe522ab",
   "metadata": {},
   "source": [
    "## HW1: E-Field inside a hollowed concentric spherical charge\n",
    "\n",
    "จงเขียนฟังก์ชัน E(x, y, z) เพื่อคำนวณหาสนามไฟฟ้าเนื่องจากประจุแบบทรงกลมกลวงซ้อนกัน 2 ลูกที่มีจุดศูนย์กลางร่วมกัน โดยทรงกลมตัวในมีประจุ $2.5~\\mu C$ และทรงกลมตัวนอกมีประจุ $-2.5~\\mu C$ ทรงกลมทั้งสองมีรัศมี $1~cm$ และ $2~cm$ ตามลำดับ\n",
    "\n",
    "![image](http://www.grandunification.com/gifs/Concentric_Spheres.gif)"
   ]
  },
  {
   "cell_type": "code",
   "execution_count": 2,
   "id": "9a51c66d-5df4-40af-a189-465048a424e0",
   "metadata": {
    "tags": []
   },
   "outputs": [],
   "source": [
    "import numpy as np\n",
    "import matplotlib.pyplot as plt\n",
    "from libemag.emag_initials import *\n",
    "from libemag.plots import field_plot\n",
    "import sympy as smp\n",
    "from scipy.integrate import dblquad"
   ]
  },
  {
   "cell_type": "code",
   "execution_count": 10,
   "id": "ee687f23-ad10-4cde-b9a4-b0ceff5caf4d",
   "metadata": {},
   "outputs": [
    {
     "data": {
      "text/latex": [
       "$\\displaystyle \\left[\\begin{matrix}x - 0.01 \\sin{\\left(\\theta \\right)} \\cos{\\left(\\phi \\right)}\\\\y - 0.01 \\sin{\\left(\\phi \\right)} \\sin{\\left(\\theta \\right)}\\\\z - 0.01 \\cos{\\left(\\theta \\right)}\\end{matrix}\\right]$"
      ],
      "text/plain": [
       "Matrix([\n",
       "[x - 0.01*sin(theta)*cos(phi)],\n",
       "[y - 0.01*sin(phi)*sin(theta)],\n",
       "[         z - 0.01*cos(theta)]])"
      ]
     },
     "execution_count": 10,
     "metadata": {},
     "output_type": "execute_result"
    }
   ],
   "source": [
    "x, y, z = smp.symbols('x, y, z', real=True)\n",
    "theta, phi = smp.symbols('theta, phi', real=True, positive=True)\n",
    "\n",
    "a1 = 1e-2\n",
    "a2 = 2e-2\n",
    "r = smp.Matrix([x, y, z])\n",
    "rp1 = smp.Matrix([a1 * smp.sin(theta) * smp.cos(phi),\\\n",
    "                 a1 * smp.sin(theta) * smp.sin(phi),\\\n",
    "                 a1 * smp.cos(theta)])\n",
    "rp2 = smp.Matrix([a2 * smp.sin(theta) * smp.cos(phi),\\\n",
    "                 a2 * smp.sin(theta) * smp.sin(phi),\\\n",
    "                 a2 * smp.cos(theta)])\n",
    "R1 = r - rp1\n",
    "R2 = r - rp2\n",
    "\n",
    "R1"
   ]
  },
  {
   "cell_type": "code",
   "execution_count": 15,
   "id": "47e33945-7bbb-4a9c-aa02-97432c4d3d4b",
   "metadata": {},
   "outputs": [
    {
     "data": {
      "text/latex": [
       "$\\displaystyle - 1.98943678864869 \\cdot 10^{-7} \\left|{\\sin{\\left(\\theta \\right)}}\\right|$"
      ],
      "text/plain": [
       "-1.98943678864869e-7*Abs(sin(theta))"
      ]
     },
     "execution_count": 15,
     "metadata": {},
     "output_type": "execute_result"
    }
   ],
   "source": [
    "Q1 = 2.5e-6\n",
    "Q2 = -Q1\n",
    "rho_s1 = Q1 / (4. * pi * a1**2)\n",
    "rho_s2 = Q2 / (4. * pi * a2**2)\n",
    "\n",
    "dqdt1 = rho_s1 * smp.diff(rp1, theta).cross(smp.diff(rp1, phi)).norm().simplify()\n",
    "dqdt2 = rho_s2 * smp.diff(rp2, theta).cross(smp.diff(rp2, phi)).norm().simplify()\n",
    "dqdt2"
   ]
  },
  {
   "cell_type": "code",
   "execution_count": 19,
   "id": "e4f72600-ade8-4642-8df1-9d2abfa36c5e",
   "metadata": {},
   "outputs": [
    {
     "data": {
      "text/latex": [
       "$\\displaystyle \\left[\\begin{matrix}- \\frac{1788.01661754099 \\left(x - 0.02 \\sin{\\left(\\theta \\right)} \\cos{\\left(\\phi \\right)}\\right) \\left|{\\sin{\\left(\\theta \\right)}}\\right|}{\\left(\\left(x - 0.02 \\sin{\\left(\\theta \\right)} \\cos{\\left(\\phi \\right)}\\right)^{2} + \\left(y - 0.02 \\sin{\\left(\\phi \\right)} \\sin{\\left(\\theta \\right)}\\right)^{2} + \\left(z - 0.02 \\cos{\\left(\\theta \\right)}\\right)^{2}\\right)^{\\frac{3}{2}}} + \\frac{1788.01661754099 \\left(x - 0.01 \\sin{\\left(\\theta \\right)} \\cos{\\left(\\phi \\right)}\\right) \\left|{\\sin{\\left(\\theta \\right)}}\\right|}{\\left(\\left(x - 0.01 \\sin{\\left(\\theta \\right)} \\cos{\\left(\\phi \\right)}\\right)^{2} + \\left(y - 0.01 \\sin{\\left(\\phi \\right)} \\sin{\\left(\\theta \\right)}\\right)^{2} + \\left(z - 0.01 \\cos{\\left(\\theta \\right)}\\right)^{2}\\right)^{\\frac{3}{2}}}\\\\- \\frac{1788.01661754099 \\left(y - 0.02 \\sin{\\left(\\phi \\right)} \\sin{\\left(\\theta \\right)}\\right) \\left|{\\sin{\\left(\\theta \\right)}}\\right|}{\\left(\\left(x - 0.02 \\sin{\\left(\\theta \\right)} \\cos{\\left(\\phi \\right)}\\right)^{2} + \\left(y - 0.02 \\sin{\\left(\\phi \\right)} \\sin{\\left(\\theta \\right)}\\right)^{2} + \\left(z - 0.02 \\cos{\\left(\\theta \\right)}\\right)^{2}\\right)^{\\frac{3}{2}}} + \\frac{1788.01661754099 \\left(y - 0.01 \\sin{\\left(\\phi \\right)} \\sin{\\left(\\theta \\right)}\\right) \\left|{\\sin{\\left(\\theta \\right)}}\\right|}{\\left(\\left(x - 0.01 \\sin{\\left(\\theta \\right)} \\cos{\\left(\\phi \\right)}\\right)^{2} + \\left(y - 0.01 \\sin{\\left(\\phi \\right)} \\sin{\\left(\\theta \\right)}\\right)^{2} + \\left(z - 0.01 \\cos{\\left(\\theta \\right)}\\right)^{2}\\right)^{\\frac{3}{2}}}\\\\- \\frac{1788.01661754099 \\left(z - 0.02 \\cos{\\left(\\theta \\right)}\\right) \\left|{\\sin{\\left(\\theta \\right)}}\\right|}{\\left(\\left(x - 0.02 \\sin{\\left(\\theta \\right)} \\cos{\\left(\\phi \\right)}\\right)^{2} + \\left(y - 0.02 \\sin{\\left(\\phi \\right)} \\sin{\\left(\\theta \\right)}\\right)^{2} + \\left(z - 0.02 \\cos{\\left(\\theta \\right)}\\right)^{2}\\right)^{\\frac{3}{2}}} + \\frac{1788.01661754099 \\left(z - 0.01 \\cos{\\left(\\theta \\right)}\\right) \\left|{\\sin{\\left(\\theta \\right)}}\\right|}{\\left(\\left(x - 0.01 \\sin{\\left(\\theta \\right)} \\cos{\\left(\\phi \\right)}\\right)^{2} + \\left(y - 0.01 \\sin{\\left(\\phi \\right)} \\sin{\\left(\\theta \\right)}\\right)^{2} + \\left(z - 0.01 \\cos{\\left(\\theta \\right)}\\right)^{2}\\right)^{\\frac{3}{2}}}\\end{matrix}\\right]$"
      ],
      "text/plain": [
       "Matrix([\n",
       "[-1788.01661754099*(x - 0.02*sin(theta)*cos(phi))*Abs(sin(theta))/((x - 0.02*sin(theta)*cos(phi))**2 + (y - 0.02*sin(phi)*sin(theta))**2 + (z - 0.02*cos(theta))**2)**(3/2) + 1788.01661754099*(x - 0.01*sin(theta)*cos(phi))*Abs(sin(theta))/((x - 0.01*sin(theta)*cos(phi))**2 + (y - 0.01*sin(phi)*sin(theta))**2 + (z - 0.01*cos(theta))**2)**(3/2)],\n",
       "[-1788.01661754099*(y - 0.02*sin(phi)*sin(theta))*Abs(sin(theta))/((x - 0.02*sin(theta)*cos(phi))**2 + (y - 0.02*sin(phi)*sin(theta))**2 + (z - 0.02*cos(theta))**2)**(3/2) + 1788.01661754099*(y - 0.01*sin(phi)*sin(theta))*Abs(sin(theta))/((x - 0.01*sin(theta)*cos(phi))**2 + (y - 0.01*sin(phi)*sin(theta))**2 + (z - 0.01*cos(theta))**2)**(3/2)],\n",
       "[                  -1788.01661754099*(z - 0.02*cos(theta))*Abs(sin(theta))/((x - 0.02*sin(theta)*cos(phi))**2 + (y - 0.02*sin(phi)*sin(theta))**2 + (z - 0.02*cos(theta))**2)**(3/2) + 1788.01661754099*(z - 0.01*cos(theta))*Abs(sin(theta))/((x - 0.01*sin(theta)*cos(phi))**2 + (y - 0.01*sin(phi)*sin(theta))**2 + (z - 0.01*cos(theta))**2)**(3/2)]])"
      ]
     },
     "execution_count": 19,
     "metadata": {},
     "output_type": "execute_result"
    }
   ],
   "source": [
    "dEdt1 = dqdt1 / (4. * pi * epsilon_0) * R1 / R1.norm()**3\n",
    "dEdt2 = dqdt2 / (4. * pi * epsilon_0) * R2 / R2.norm()**3\n",
    "dEdt = dEdt1 + dEdt2\n",
    "dEdt"
   ]
  },
  {
   "cell_type": "code",
   "execution_count": 22,
   "id": "35c52b09-af99-4e31-b9dd-9c43d6b44beb",
   "metadata": {},
   "outputs": [
    {
     "data": {
      "text/plain": [
       "-0.1564609913033479"
      ]
     },
     "execution_count": 22,
     "metadata": {},
     "output_type": "execute_result"
    }
   ],
   "source": [
    "dEdt_x = smp.lambdify([theta, phi, x, y, z], dEdt[0])\n",
    "dEdt_y = smp.lambdify([theta, phi, x, y, z], dEdt[1])\n",
    "dEdt_z = smp.lambdify([theta, phi, x, y, z], dEdt[2])\n",
    "dEdt_x(0.5, 2.15, 1, 2, 3)"
   ]
  },
  {
   "cell_type": "code",
   "execution_count": 25,
   "id": "8acdb16a-88f3-46f7-8e1d-772019c781bb",
   "metadata": {},
   "outputs": [
    {
     "data": {
      "text/plain": [
       "array([ 4.74350116e-14, -5.85961908e-14,  8.51039914e-14])"
      ]
     },
     "execution_count": 25,
     "metadata": {},
     "output_type": "execute_result"
    }
   ],
   "source": [
    "def E(x, y, z):\n",
    "    Ex = dblquad(dEdt_x, 0., pi, lambda t: 0., lambda t: 2. * pi, args=(x, y, z))[0]\n",
    "    Ey = dblquad(dEdt_y, 0., pi, lambda t: 0., lambda t: 2. * pi, args=(x, y, z))[0]\n",
    "    Ez = dblquad(dEdt_z, 0., pi, lambda t: 0., lambda t: 2. * pi, args=(x, y, z))[0]\n",
    "    return np.array([Ex, Ey, Ez])\n",
    "E(1.5e-2, 1.5-2, 1.5e-2)"
   ]
  },
  {
   "cell_type": "markdown",
   "id": "e907b53b-ffd7-4e15-bf06-db32e63e72c4",
   "metadata": {},
   "source": [
    "จงกวาดกราฟเพื่อแสดงขนาดของสนามไฟฟ้าตามแนวแกน $x$ เมื่อให้ $y=z=0$ หรือ $|\\mathbf{E}(x, 0, 0)|$"
   ]
  },
  {
   "cell_type": "code",
   "execution_count": 47,
   "id": "341db7eb-4b19-42c3-b03c-4bade578b7bd",
   "metadata": {},
   "outputs": [],
   "source": [
    "# Single Processing\n",
    "# X = np.linspace(-3e-2, 3e-2, 100)\n",
    "# Y = np.zeros(len(X))\n",
    "# Z = Y\n",
    "\n",
    "# E_func = np.vectorize(E, signature='(),(),()->(n)')\n",
    "# E_field = E_func(X, Y, Z)"
   ]
  },
  {
   "cell_type": "code",
   "execution_count": 55,
   "id": "c480bdea-ad5b-45f1-8d05-9a54044f418a",
   "metadata": {},
   "outputs": [],
   "source": [
    "# Parallel Processing\n",
    "from joblib import Parallel, delayed\n",
    "X = np.linspace(-3e-2, 3e-2, 200)\n",
    "\n",
    "# Function to vectorize\n",
    "def compute_E_field(x, y, z):\n",
    "    result = E(x, y, z)\n",
    "    return np.linalg.norm(result)\n",
    "\n",
    "E_field = Parallel(n_jobs=-1)(delayed(compute_E_field)(x, 0., 0.) for x in X)"
   ]
  },
  {
   "cell_type": "code",
   "execution_count": 56,
   "id": "5c69dc4d-ea5c-4f3e-8d10-c63c9ef12e85",
   "metadata": {},
   "outputs": [
    {
     "data": {
      "text/plain": [
       "Text(0, 0.5, '$|\\\\mathbf{E}(x, 0, 0)|~(V/m)$')"
      ]
     },
     "execution_count": 56,
     "metadata": {},
     "output_type": "execute_result"
    },
    {
     "data": {
      "image/png": "[encoded data removed]",
      "text/plain": [
       "<Figure size 800x600 with 1 Axes>"
      ]
     },
     "metadata": {},
     "output_type": "display_data"
    }
   ],
   "source": [
    "plt.plot(X, E_field)\n",
    "plt.xlabel(r'$x~(m)$')\n",
    "plt.ylabel(r'$|\\mathbf{E}(x, 0, 0)|~(V/m)$')"
   ]
  },
  {
   "cell_type": "markdown",
   "id": "07eea8e4-8afd-489c-b790-fccb4e808217",
   "metadata": {},
   "source": [
    "### HW2: สนามไฟฟ้ารอบ ๆ ประจุแบบวงแหวน\n",
    "จงเขียนฟังก์ชันที่ E(x, y, z) ใช้ในการคำนวณหาสนามไฟฟ้า $\\mathbf{E(r)}$ รอบ ๆ ประจุแบบวงแหวนใน 3 มิติ ที่มีรัศมี $3~cm$ และมีประจุ $Q=1~nC$ \n",
    "![ring](https://i.stack.imgur.com/cbwYs.gif)"
   ]
  },
  {
   "cell_type": "code",
   "execution_count": null,
   "id": "76065ac8-3daa-4754-a8ba-762e6af3385d",
   "metadata": {},
   "outputs": [],
   "source": [
    "import numpy as np\n",
    "import matplotlib.pyplot as plt\n",
    "from libemag.emag_initials import *\n",
    "from libemag.plots import field_plot\n",
    "import sympy as smp\n",
    "from scipy.integrate import dblquad"
   ]
  },
  {
   "cell_type": "code",
   "execution_count": null,
   "id": "0af0ef1a-c141-4dec-9789-33f2f8bfcd80",
   "metadata": {},
   "outputs": [],
   "source": []
  },
  {
   "cell_type": "code",
   "execution_count": null,
   "id": "17576956-a4c5-4e32-8962-2fa6296016fe",
   "metadata": {},
   "outputs": [],
   "source": []
  },
  {
   "cell_type": "code",
   "execution_count": null,
   "id": "f9f82450-89d0-4703-8914-af1528749ea5",
   "metadata": {},
   "outputs": [],
   "source": []
  },
  {
   "cell_type": "code",
   "execution_count": null,
   "id": "22f52782-c6cb-428f-865d-75df2affe589",
   "metadata": {},
   "outputs": [],
   "source": []
  },
  {
   "cell_type": "code",
   "execution_count": null,
   "id": "e09dc315-563f-4eda-98d7-7373a4752111",
   "metadata": {},
   "outputs": [],
   "source": []
  },
  {
   "cell_type": "code",
   "execution_count": null,
   "id": "52301417-c9b6-41f3-99a5-2207649a662f",
   "metadata": {},
   "outputs": [],
   "source": []
  },
  {
   "cell_type": "code",
   "execution_count": null,
   "id": "da61abc4-df16-43fa-948f-2a06f5b4e28b",
   "metadata": {},
   "outputs": [],
   "source": []
  },
  {
   "cell_type": "code",
   "execution_count": null,
   "id": "828b37e2-7926-46eb-b56b-b428d08b7dd6",
   "metadata": {},
   "outputs": [],
   "source": []
  },
  {
   "cell_type": "code",
   "execution_count": null,
   "id": "1f21d774-22be-4da5-be49-be526b1886ce",
   "metadata": {},
   "outputs": [],
   "source": []
  },
  {
   "cell_type": "code",
   "execution_count": null,
   "id": "f80da212-90ed-458c-b86d-afe845b23fed",
   "metadata": {},
   "outputs": [],
   "source": []
  },
  {
   "cell_type": "code",
   "execution_count": null,
   "id": "f6b4fc5d-f06f-4fcb-8547-e3ed546caee9",
   "metadata": {},
   "outputs": [],
   "source": []
  }
 ],
 "metadata": {
  "kernelspec": {
   "display_name": "Python 3 (ipykernel)",
   "language": "python",
   "name": "python3"
  },
  "language_info": {
   "codemirror_mode": {
    "name": "ipython",
    "version": 3
   },
   "file_extension": ".py",
   "mimetype": "text/x-python",
   "name": "python",
   "nbconvert_exporter": "python",
   "pygments_lexer": "ipython3",
   "version": "3.11.7"
  }
 },
 "nbformat": 4,
 "nbformat_minor": 5
}
