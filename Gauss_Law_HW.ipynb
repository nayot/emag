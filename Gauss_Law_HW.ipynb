{
 "cells": [
  {
   "cell_type": "markdown",
   "id": "15b281c2-623f-4d8d-beba-22c165f31f26",
   "metadata": {},
   "source": [
    "### Homework 1\n",
    "จงเขียนฟังก์ชัน E(x, y, z) ที่คำนวณหาค่าของสนามไฟฟ้าเนื่องจากประจุแบบจุดขนาด $-5~nC$ ซึ่งวางอยู่ที่ตำแหน่ง $(1, -2, 1)~m$ ในระบบพิกัดฉาก 3 มิติ"
   ]
  },
  {
   "cell_type": "code",
   "execution_count": null,
   "id": "fe587a93-71b9-4afa-9b64-01291e91cd73",
   "metadata": {},
   "outputs": [],
   "source": []
  },
  {
   "cell_type": "code",
   "execution_count": null,
   "id": "48e10cc6-be10-459f-9f06-1e9707e828d9",
   "metadata": {},
   "outputs": [],
   "source": []
  },
  {
   "cell_type": "code",
   "execution_count": null,
   "id": "0fdf38d1-4699-4a84-9a31-6f0ac1a23f48",
   "metadata": {},
   "outputs": [],
   "source": []
  },
  {
   "cell_type": "code",
   "execution_count": null,
   "id": "edfd4901-0a06-4b1a-8dee-87e1cacee35c",
   "metadata": {},
   "outputs": [],
   "source": []
  },
  {
   "cell_type": "code",
   "execution_count": null,
   "id": "3210de18-6060-44e4-9f3e-9dd12d0bbebe",
   "metadata": {},
   "outputs": [],
   "source": []
  },
  {
   "cell_type": "markdown",
   "id": "e080853e-9cb5-4a93-86cf-54c995f74153",
   "metadata": {},
   "source": [
    "คำนวณหาค่าสนามไฟฟ้า $\\mathbf{E(x, y, z)}$ ที่ตำแหน่งต่าง ๆ ตามที่นิสิตต้องการ จำนวน 5 ตำแหน่ง (ไม่ต้องพล็อตกราฟ)"
   ]
  },
  {
   "cell_type": "code",
   "execution_count": null,
   "id": "54aa4cd2-99d6-4734-b234-bc5c16c01c6d",
   "metadata": {},
   "outputs": [],
   "source": []
  },
  {
   "cell_type": "code",
   "execution_count": null,
   "id": "b4338539-522a-4492-807a-026a1509a0ee",
   "metadata": {},
   "outputs": [],
   "source": []
  },
  {
   "cell_type": "code",
   "execution_count": null,
   "id": "16b2d74b-088b-463e-8d58-0a3356733213",
   "metadata": {},
   "outputs": [],
   "source": []
  },
  {
   "cell_type": "code",
   "execution_count": null,
   "id": "546b0f7f-3120-44f5-bb46-bacdaa754dcb",
   "metadata": {},
   "outputs": [],
   "source": []
  },
  {
   "cell_type": "code",
   "execution_count": null,
   "id": "ceaad91d-37fb-4671-ba43-c9224e1a4fe4",
   "metadata": {},
   "outputs": [],
   "source": []
  },
  {
   "cell_type": "code",
   "execution_count": null,
   "id": "cb06866c-5b80-4264-a13e-de8680d7dd04",
   "metadata": {},
   "outputs": [],
   "source": []
  },
  {
   "cell_type": "markdown",
   "id": "aa83dc82-f6d3-4e10-9bca-c8513f290189",
   "metadata": {},
   "source": [
    "### Homework 2\n",
    "จงเขียนฟังก์ชัน E(x, y, z) ที่คำนวณหาค่าของสนามไฟฟ้าเนื่องจากประจุแบบเส้น ยาว $10~m$ ที่วางอยู่ตามแนวแกน $y$ ในระบบพิกัด 3 มิติ โดยที่ประจุเส้นนี้มีความหนาแน่นประจุสม่ำเสมอ และมีค่าประจุรวม $1~\\mu C$"
   ]
  },
  {
   "cell_type": "code",
   "execution_count": null,
   "id": "f3ab138d-2a8d-4553-87f5-a4abb0e9f1af",
   "metadata": {},
   "outputs": [],
   "source": []
  },
  {
   "cell_type": "code",
   "execution_count": null,
   "id": "ad090d4f-40a2-47b2-97a5-b35ce77f2e28",
   "metadata": {},
   "outputs": [],
   "source": []
  },
  {
   "cell_type": "code",
   "execution_count": null,
   "id": "2cd48fb7-c3da-49a0-8216-4121be788ca6",
   "metadata": {},
   "outputs": [],
   "source": []
  },
  {
   "cell_type": "code",
   "execution_count": null,
   "id": "df3b9380-6ec2-4342-9298-020a604d52e8",
   "metadata": {},
   "outputs": [],
   "source": []
  },
  {
   "cell_type": "code",
   "execution_count": null,
   "id": "7e7226fb-2b2d-4e27-bafa-95ce780c1370",
   "metadata": {},
   "outputs": [],
   "source": []
  },
  {
   "cell_type": "code",
   "execution_count": null,
   "id": "086a9986-aebf-4080-b514-8cbd96a82d28",
   "metadata": {},
   "outputs": [],
   "source": []
  },
  {
   "cell_type": "code",
   "execution_count": null,
   "id": "258ed86b-1cfb-4dc1-b090-384a635ec7f4",
   "metadata": {},
   "outputs": [],
   "source": []
  },
  {
   "cell_type": "code",
   "execution_count": null,
   "id": "4a2d0c1b-2797-4b36-8303-d5c9d688a6be",
   "metadata": {},
   "outputs": [],
   "source": []
  },
  {
   "cell_type": "code",
   "execution_count": null,
   "id": "f6beab7a-5de0-4540-8ffb-397306376719",
   "metadata": {},
   "outputs": [],
   "source": []
  },
  {
   "cell_type": "code",
   "execution_count": null,
   "id": "437a839e-d71d-4cd0-9ec1-d9cab8f9e34a",
   "metadata": {},
   "outputs": [],
   "source": []
  },
  {
   "cell_type": "markdown",
   "id": "b100296f-4ba5-4c81-aa66-68f89cebbaa5",
   "metadata": {},
   "source": [
    "ทดสอบการทำงานของฟังก์ชันดังกล่าว โดยนำไปใช้ในการหาค่าของสนามไฟฟ้า ณ จุดต่าง ๆ ที่แตกต่างกันตามที่นิสิตสนใจ จำนวน 4 จุด"
   ]
  },
  {
   "cell_type": "code",
   "execution_count": null,
   "id": "1e056827-98ae-4fa6-baaa-6aa34357dc15",
   "metadata": {},
   "outputs": [],
   "source": []
  },
  {
   "cell_type": "code",
   "execution_count": null,
   "id": "f9c962b2-1d7b-4148-9b03-f09209d59523",
   "metadata": {},
   "outputs": [],
   "source": []
  },
  {
   "cell_type": "code",
   "execution_count": null,
   "id": "bcaf55d6-896a-4b8e-af9c-02aacfcc02cf",
   "metadata": {},
   "outputs": [],
   "source": []
  },
  {
   "cell_type": "code",
   "execution_count": null,
   "id": "368177a9-0ff7-47a3-82a6-b374747b2bd3",
   "metadata": {},
   "outputs": [],
   "source": []
  },
  {
   "cell_type": "code",
   "execution_count": null,
   "id": "11433f8b-0258-4b47-b2eb-f8dffc0f96fb",
   "metadata": {},
   "outputs": [],
   "source": []
  },
  {
   "cell_type": "code",
   "execution_count": null,
   "id": "6b6ae18c-2233-4254-9c58-8220cf357dee",
   "metadata": {},
   "outputs": [],
   "source": []
  },
  {
   "cell_type": "code",
   "execution_count": null,
   "id": "2f07345e-d4d0-49a3-80ad-68f03b91a406",
   "metadata": {},
   "outputs": [],
   "source": []
  },
  {
   "cell_type": "code",
   "execution_count": null,
   "id": "1c2f1762-7741-451a-87a7-0fbc274f87b5",
   "metadata": {},
   "outputs": [],
   "source": []
  }
 ],
 "metadata": {
  "kernelspec": {
   "display_name": "Python 3 (ipykernel)",
   "language": "python",
   "name": "python3"
  },
  "language_info": {
   "codemirror_mode": {
    "name": "ipython",
    "version": 3
   },
   "file_extension": ".py",
   "mimetype": "text/x-python",
   "name": "python",
   "nbconvert_exporter": "python",
   "pygments_lexer": "ipython3",
   "version": "3.11.7"
  }
 },
 "nbformat": 4,
 "nbformat_minor": 5
}
