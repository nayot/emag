{
 "cells": [
  {
   "cell_type": "markdown",
   "id": "15b281c2-623f-4d8d-beba-22c165f31f26",
   "metadata": {},
   "source": [
    "### Homework 1\n",
    "จงเขียนฟังก์ชัน E(x, y, z) ที่คำนวณหาค่าของสนามไฟฟ้าเนื่องจากประจุแบบจุดขนาด $-5~nC$ ซึ่งวางอยู่ที่ตำแหน่ง $(1, -2, 1)~m$ ในระบบพิกัดฉาก 3 มิติ"
   ]
  },
  {
   "cell_type": "code",
   "execution_count": 1,
   "id": "fe587a93-71b9-4afa-9b64-01291e91cd73",
   "metadata": {},
   "outputs": [],
   "source": [
    "import numpy as np\n",
    "import matplotlib.pyplot as plt\n",
    "from libemag.emag_initials import *\n",
    "from libemag.plots import field_plot\n",
    "import sympy as smp"
   ]
  },
  {
   "cell_type": "code",
   "execution_count": 7,
   "id": "48e10cc6-be10-459f-9f06-1e9707e828d9",
   "metadata": {},
   "outputs": [
    {
     "data": {
      "text/latex": [
       "$\\displaystyle \\sqrt{\\left(x - 1\\right)^{2} + \\left(y + 2\\right)^{2} + \\left(z - 1\\right)^{2}}$"
      ],
      "text/plain": [
       "sqrt((x - 1)**2 + (y + 2)**2 + (z - 1)**2)"
      ]
     },
     "execution_count": 7,
     "metadata": {},
     "output_type": "execute_result"
    }
   ],
   "source": [
    "# Part I : Analytical\n",
    "x, y, z = smp.symbols('x, y, z', real=True)\n",
    "Q = -5e-9 #nC\n",
    "r = smp.Matrix([x, y, z])\n",
    "rp = smp.Matrix([1, -2, 1])\n",
    "R = r - rp\n",
    "R.norm()"
   ]
  },
  {
   "cell_type": "code",
   "execution_count": 10,
   "id": "0fdf38d1-4699-4a84-9a31-6f0ac1a23f48",
   "metadata": {},
   "outputs": [
    {
     "data": {
      "text/latex": [
       "$\\displaystyle \\left[\\begin{matrix}\\frac{44.9377589613059 - 44.9377589613059 x}{\\left(\\left(x - 1\\right)^{2} + \\left(y + 2\\right)^{2} + \\left(z - 1\\right)^{2}\\right)^{\\frac{3}{2}}}\\\\\\frac{- 44.9377589613059 y - 89.8755179226117}{\\left(\\left(x - 1\\right)^{2} + \\left(y + 2\\right)^{2} + \\left(z - 1\\right)^{2}\\right)^{\\frac{3}{2}}}\\\\\\frac{44.9377589613059 - 44.9377589613059 z}{\\left(\\left(x - 1\\right)^{2} + \\left(y + 2\\right)^{2} + \\left(z - 1\\right)^{2}\\right)^{\\frac{3}{2}}}\\end{matrix}\\right]$"
      ],
      "text/plain": [
       "Matrix([\n",
       "[ (44.9377589613059 - 44.9377589613059*x)/((x - 1)**2 + (y + 2)**2 + (z - 1)**2)**(3/2)],\n",
       "[(-44.9377589613059*y - 89.8755179226117)/((x - 1)**2 + (y + 2)**2 + (z - 1)**2)**(3/2)],\n",
       "[ (44.9377589613059 - 44.9377589613059*z)/((x - 1)**2 + (y + 2)**2 + (z - 1)**2)**(3/2)]])"
      ]
     },
     "execution_count": 10,
     "metadata": {},
     "output_type": "execute_result"
    }
   ],
   "source": [
    "E = Q / (4. * pi * epsilon_0) * R / R.norm()**3\n",
    "E"
   ]
  },
  {
   "cell_type": "code",
   "execution_count": 9,
   "id": "edfd4901-0a06-4b1a-8dee-87e1cacee35c",
   "metadata": {},
   "outputs": [
    {
     "data": {
      "text/latex": [
       "$\\displaystyle \\left[\\begin{matrix}3.05762721220504\\\\-6.11525442441009\\\\3.05762721220504\\end{matrix}\\right]$"
      ],
      "text/plain": [
       "Matrix([\n",
       "[ 3.05762721220504],\n",
       "[-6.11525442441009],\n",
       "[ 3.05762721220504]])"
      ]
     },
     "execution_count": 9,
     "metadata": {},
     "output_type": "execute_result"
    }
   ],
   "source": [
    "E.subs({x:0., y:0., z:0.})"
   ]
  },
  {
   "cell_type": "code",
   "execution_count": 16,
   "id": "edb43a9e-5e4d-4148-8c9c-bfa616af14d9",
   "metadata": {},
   "outputs": [
    {
     "data": {
      "text/plain": [
       "<function _lambdifygenerated(x, y, z)>"
      ]
     },
     "execution_count": 16,
     "metadata": {},
     "output_type": "execute_result"
    }
   ],
   "source": [
    "# Part II : Numerical\n",
    "E_f = smp.lambdify([x, y, z], E)\n",
    "E_f"
   ]
  },
  {
   "cell_type": "code",
   "execution_count": 17,
   "id": "dacac619-0ae6-44a4-89a3-7919772f74c4",
   "metadata": {},
   "outputs": [
    {
     "data": {
      "text/plain": [
       "array([[ 3.05762721],\n",
       "       [-6.11525442],\n",
       "       [ 3.05762721]])"
      ]
     },
     "execution_count": 17,
     "metadata": {},
     "output_type": "execute_result"
    }
   ],
   "source": [
    "E_f(0, 0, 0)"
   ]
  },
  {
   "cell_type": "code",
   "execution_count": 18,
   "id": "72e48871-9a74-4b7f-9740-39b6278f67d5",
   "metadata": {},
   "outputs": [
    {
     "data": {
      "text/plain": [
       "array([[ 0.        ],\n",
       "       [-2.00967768],\n",
       "       [-1.00483884]])"
      ]
     },
     "execution_count": 18,
     "metadata": {},
     "output_type": "execute_result"
    }
   ],
   "source": [
    "E_f(1, 2, 3)"
   ]
  },
  {
   "cell_type": "code",
   "execution_count": 19,
   "id": "ae79e13a-688c-485b-89bf-85dcfafd4e5a",
   "metadata": {},
   "outputs": [
    {
     "data": {
      "text/plain": [
       "array([[-0.00085592],\n",
       "       [-0.00088186],\n",
       "       [-0.00085592]])"
      ]
     },
     "execution_count": 19,
     "metadata": {},
     "output_type": "execute_result"
    }
   ],
   "source": [
    "E_f(100, 100, 100)"
   ]
  },
  {
   "cell_type": "markdown",
   "id": "e080853e-9cb5-4a93-86cf-54c995f74153",
   "metadata": {},
   "source": [
    "คำนวณหาค่าสนามไฟฟ้า $\\mathbf{E(x, y, z)}$ ที่ตำแหน่งต่าง ๆ ตามที่นิสิตต้องการ จำนวน 5 ตำแหน่ง (ไม่ต้องพล็อตกราฟ)"
   ]
  },
  {
   "cell_type": "code",
   "execution_count": 20,
   "id": "9af9a02d-10be-491c-9a23-3b23834bea18",
   "metadata": {},
   "outputs": [
    {
     "data": {
      "text/plain": [
       "array([[-0.83218072],\n",
       "       [-0.41609036],\n",
       "       [-0.83218072]])"
      ]
     },
     "execution_count": 20,
     "metadata": {},
     "output_type": "execute_result"
    }
   ],
   "source": [
    "#1 (5, 0, 5)\n",
    "E_f(5, 0, 5)"
   ]
  },
  {
   "cell_type": "code",
   "execution_count": 23,
   "id": "3be9d6fe-5513-4f68-828f-4890f608c52c",
   "metadata": {},
   "outputs": [
    {
     "data": {
      "text/plain": [
       "1.2482710822584973"
      ]
     },
     "execution_count": 23,
     "metadata": {},
     "output_type": "execute_result"
    }
   ],
   "source": [
    "# ขนาดของสนามไฟฟ้า E ณ จุด (5, 0, 5)\n",
    "np.linalg.norm(E_f(5, 0, 5))"
   ]
  },
  {
   "cell_type": "code",
   "execution_count": 24,
   "id": "43e178a4-d42a-4edf-a035-abfb4e3053ee",
   "metadata": {},
   "outputs": [
    {
     "data": {
      "text/plain": [
       "array([[-0.09205002],\n",
       "       [-0.55230011],\n",
       "       [-0.46025009]])"
      ]
     },
     "execution_count": 24,
     "metadata": {},
     "output_type": "execute_result"
    }
   ],
   "source": [
    "#2 (2, 4, 6)\n",
    "E_f(2, 4, 6)"
   ]
  },
  {
   "cell_type": "markdown",
   "id": "aa83dc82-f6d3-4e10-9bca-c8513f290189",
   "metadata": {},
   "source": [
    "### Homework 2\n",
    "จงเขียนฟังก์ชัน E(x, y, z) ที่คำนวณหาค่าของสนามไฟฟ้าเนื่องจากประจุแบบเส้น ยาว $10~m$ ที่วางอยู่ตามแนวแกน $y$ ในระบบพิกัด 3 มิติ โดยที่ประจุเส้นนี้มีความหนาแน่นประจุสม่ำเสมอ และมีค่าประจุรวม $1~\\mu C$\n",
    "\n",
    "$$\\mathbf{dE}=\\frac{dq}{4\\pi\\epsilon_0}\\frac{\\mathbf{r-r'}}{|\\mathbf{r-r'}|^3}$$\n",
    "$$\\frac{\\mathbf{dE}}{dt}=\\frac{\\frac{dq}{dt}}{4\\pi\\epsilon_0}\\frac{\\mathbf{r-r'}}{|\\mathbf{r-r'}|^3}$$\n",
    "$$\\mathbf{E(r)}=\\int\\mathbf{dE}$$\n",
    "\n",
    "Line Charge Definition\n",
    "$$dq=\\rho_l(r')|d\\mathbf{r'}|$$\n",
    "\n",
    "Parameterised\n",
    "$$dq=\\rho_l(r')\\left\\|\\frac{d\\mathbf{r'}}{dt}\\right\\|dt$$\n",
    "$$\\frac{dq}{dt}=\\rho_l(r')\\left\\|\\frac{d\\mathbf{r'}}{dt}\\right\\|$$"
   ]
  },
  {
   "cell_type": "code",
   "execution_count": 2,
   "id": "f3ab138d-2a8d-4553-87f5-a4abb0e9f1af",
   "metadata": {},
   "outputs": [],
   "source": [
    "import numpy as np\n",
    "import matplotlib.pyplot as plt\n",
    "from libemag.emag_initials import *\n",
    "from libemag.plots import field_plot\n",
    "import sympy as smp"
   ]
  },
  {
   "cell_type": "code",
   "execution_count": 5,
   "id": "ad090d4f-40a2-47b2-97a5-b35ce77f2e28",
   "metadata": {},
   "outputs": [
    {
     "data": {
      "text/latex": [
       "$\\displaystyle \\left[\\begin{matrix}x\\\\- t + y\\\\z\\end{matrix}\\right]$"
      ],
      "text/plain": [
       "Matrix([\n",
       "[     x],\n",
       "[-t + y],\n",
       "[     z]])"
      ]
     },
     "execution_count": 5,
     "metadata": {},
     "output_type": "execute_result"
    }
   ],
   "source": [
    "x, y, z, t = smp.symbols('x, y, z, t', real=True)\n",
    "r = smp.Matrix([x, y, z])\n",
    "rp = smp.Matrix([0, t, 0])\n",
    "R = r - rp\n",
    "R"
   ]
  },
  {
   "cell_type": "code",
   "execution_count": 10,
   "id": "2cd48fb7-c3da-49a0-8216-4121be788ca6",
   "metadata": {},
   "outputs": [
    {
     "data": {
      "text/latex": [
       "$\\displaystyle 1.0 \\cdot 10^{-7}$"
      ],
      "text/plain": [
       "1.00000000000000e-7"
      ]
     },
     "execution_count": 10,
     "metadata": {},
     "output_type": "execute_result"
    }
   ],
   "source": [
    "Q = 1e-6\n",
    "L = 10\n",
    "rho_l = Q / L\n",
    "\n",
    "dqdt = rho_l * smp.diff(rp, t).norm()\n",
    "dqdt"
   ]
  },
  {
   "cell_type": "code",
   "execution_count": 11,
   "id": "df3b9380-6ec2-4342-9298-020a604d52e8",
   "metadata": {},
   "outputs": [
    {
     "data": {
      "text/latex": [
       "$\\displaystyle \\left[\\begin{matrix}\\frac{898.755179226117 x}{\\left(x^{2} + z^{2} + \\left(t - y\\right)^{2}\\right)^{\\frac{3}{2}}}\\\\\\frac{- 898.755179226117 t + 898.755179226117 y}{\\left(x^{2} + z^{2} + \\left(t - y\\right)^{2}\\right)^{\\frac{3}{2}}}\\\\\\frac{898.755179226117 z}{\\left(x^{2} + z^{2} + \\left(t - y\\right)^{2}\\right)^{\\frac{3}{2}}}\\end{matrix}\\right]$"
      ],
      "text/plain": [
       "Matrix([\n",
       "[                        898.755179226117*x/(x**2 + z**2 + (t - y)**2)**(3/2)],\n",
       "[(-898.755179226117*t + 898.755179226117*y)/(x**2 + z**2 + (t - y)**2)**(3/2)],\n",
       "[                        898.755179226117*z/(x**2 + z**2 + (t - y)**2)**(3/2)]])"
      ]
     },
     "execution_count": 11,
     "metadata": {},
     "output_type": "execute_result"
    }
   ],
   "source": [
    "dEdt = dqdt / (4. * pi * epsilon_0) * R / R.norm()**3\n",
    "dEdt"
   ]
  },
  {
   "cell_type": "code",
   "execution_count": 18,
   "id": "7e7226fb-2b2d-4e27-bafa-95ce780c1370",
   "metadata": {},
   "outputs": [
    {
     "data": {
      "text/latex": [
       "$\\displaystyle \\left[\\begin{matrix}\\frac{898.755179226117 x \\left(5 - y\\right)}{\\sqrt{\\frac{\\left(5 - y\\right)^{2}}{\\operatorname{polar\\_lift}{\\left(x^{2} + z^{2} \\right)}} + 1} \\operatorname{polar\\_lift}^{\\frac{3}{2}}{\\left(x^{2} + z^{2} \\right)}} - \\frac{898.755179226117 x \\left(- y - 5\\right)}{\\sqrt{\\frac{\\left(- y - 5\\right)^{2}}{\\operatorname{polar\\_lift}{\\left(x^{2} + z^{2} \\right)}} + 1} \\operatorname{polar\\_lift}^{\\frac{3}{2}}{\\left(x^{2} + z^{2} \\right)}}\\\\\\begin{cases} \\int\\limits_{-5}^{5} \\begin{cases} \\text{NaN} & \\text{for}\\: y = t - i \\left|{z}\\right| \\vee y = t + i \\left|{z}\\right| \\\\\\frac{42648748885.4028 \\left(- 0.5 t + \\frac{y}{2}\\right)}{\\sqrt{- 0.5 t^{2} + t y - 0.5 y^{2} - 0.5 z^{2}} \\cdot \\left(1.11022302462516 \\cdot 10^{-16} t^{2} - 2.22044604925031 \\cdot 10^{-16} t y + 1.11022302462516 \\cdot 10^{-16} y^{2} + 1.11022302462516 \\cdot 10^{-16} z^{2}\\right)} + \\frac{8.65019393977023 \\cdot 10^{41} \\left(- 2.22044604925031 \\cdot 10^{-16} t + 2.22044604925031 \\cdot 10^{-16} y\\right) \\sqrt{- 0.5 t^{2} + t y - 0.5 y^{2} - 0.5 z^{2}}}{\\left(0.5 t^{2} - t y + 0.5 y^{2} + 0.5 z^{2}\\right)^{2}} & \\text{for}\\: x = - 1.4142135623731 \\sqrt{- 0.5 t^{2} + t y - 0.5 y^{2} - 0.5 z^{2}} \\vee x = 1.4142135623731 \\sqrt{- 0.5 t^{2} + t y - 0.5 y^{2} - 0.5 z^{2}} \\\\\\frac{224.688794806529 \\left(- 2.0 t + 2.0 y\\right) \\sqrt{t^{2} - 2 t y + x^{2} + y^{2} + z^{2}}}{\\left(0.5 t^{2} - t y + 0.5 x^{2} + 0.5 y^{2} + 0.5 z^{2}\\right)^{2}} + \\frac{898.755179226117 \\left(t - y\\right)}{\\sqrt{t^{2} - 2 t y + x^{2} + y^{2} + z^{2}} \\cdot \\left(1.0 t^{2} - 2.0 t y + 1.0 x^{2} + 1.0 y^{2} + 1.0 z^{2}\\right)} & \\text{otherwise} \\end{cases}\\, dt & \\text{for}\\: x = 0 \\\\\\int\\limits_{-5}^{5} \\begin{cases} \\frac{42648748885.4028 \\left(- 0.5 t + \\frac{y}{2}\\right)}{\\sqrt{- 0.5 t^{2} + t y - 0.5 y^{2} - 0.5 z^{2}} \\cdot \\left(1.11022302462516 \\cdot 10^{-16} t^{2} - 2.22044604925031 \\cdot 10^{-16} t y + 1.11022302462516 \\cdot 10^{-16} y^{2} + 1.11022302462516 \\cdot 10^{-16} z^{2}\\right)} + \\frac{8.65019393977023 \\cdot 10^{41} \\left(- 2.22044604925031 \\cdot 10^{-16} t + 2.22044604925031 \\cdot 10^{-16} y\\right) \\sqrt{- 0.5 t^{2} + t y - 0.5 y^{2} - 0.5 z^{2}}}{\\left(0.5 t^{2} - t y + 0.5 y^{2} + 0.5 z^{2}\\right)^{2}} & \\text{for}\\: x = - 1.4142135623731 \\sqrt{- 0.5 t^{2} + t y - 0.5 y^{2} - 0.5 z^{2}} \\vee x = 1.4142135623731 \\sqrt{- 0.5 t^{2} + t y - 0.5 y^{2} - 0.5 z^{2}} \\\\\\frac{224.688794806529 \\left(- 2.0 t + 2.0 y\\right) \\sqrt{t^{2} - 2 t y + x^{2} + y^{2} + z^{2}}}{\\left(0.5 t^{2} - t y + 0.5 x^{2} + 0.5 y^{2} + 0.5 z^{2}\\right)^{2}} + \\frac{898.755179226117 \\left(t - y\\right)}{\\sqrt{t^{2} - 2 t y + x^{2} + y^{2} + z^{2}} \\cdot \\left(1.0 t^{2} - 2.0 t y + 1.0 x^{2} + 1.0 y^{2} + 1.0 z^{2}\\right)} & \\text{otherwise} \\end{cases}\\, dt & \\text{otherwise} \\end{cases}\\\\\\frac{898.755179226117 z \\left(5 - y\\right)}{\\sqrt{\\frac{\\left(5 - y\\right)^{2}}{\\operatorname{polar\\_lift}{\\left(x^{2} + z^{2} \\right)}} + 1} \\operatorname{polar\\_lift}^{\\frac{3}{2}}{\\left(x^{2} + z^{2} \\right)}} - \\frac{898.755179226117 z \\left(- y - 5\\right)}{\\sqrt{\\frac{\\left(- y - 5\\right)^{2}}{\\operatorname{polar\\_lift}{\\left(x^{2} + z^{2} \\right)}} + 1} \\operatorname{polar\\_lift}^{\\frac{3}{2}}{\\left(x^{2} + z^{2} \\right)}}\\end{matrix}\\right]$"
      ],
      "text/plain": [
       "Matrix([\n",
       "[                                                                                                                                                                                                                                                                                                                                                                                                                                                                                                                                                                                                                                                                                                                                                                                                                                                                                                                                                                                                                                                                                                                                                                                                                                                                                                                                                                                                                                                                                      898.755179226117*x*(5 - y)/(sqrt((5 - y)**2/polar_lift(x**2 + z**2) + 1)*polar_lift(x**2 + z**2)**(3/2)) - 898.755179226117*x*(-y - 5)/(sqrt((-y - 5)**2/polar_lift(x**2 + z**2) + 1)*polar_lift(x**2 + z**2)**(3/2))],\n",
       "[Piecewise((Integral(Piecewise((nan, Eq(y, t + I*Abs(z)) | Eq(y, t - I*Abs(z))), (42648748885.4028*(-0.5*t + y/2)/(sqrt(-0.5*t**2 + t*y - 0.5*y**2 - 0.5*z**2)*(1.11022302462516e-16*t**2 - 2.22044604925031e-16*t*y + 1.11022302462516e-16*y**2 + 1.11022302462516e-16*z**2)) + 8.65019393977023e+41*(-2.22044604925031e-16*t + 2.22044604925031e-16*y)*sqrt(-0.5*t**2 + t*y - 0.5*y**2 - 0.5*z**2)/(0.5*t**2 - t*y + 0.5*y**2 + 0.5*z**2)**2, Eq(x, -1.4142135623731*sqrt(-0.5*t**2 + t*y - 0.5*y**2 - 0.5*z**2)) | Eq(x, 1.4142135623731*sqrt(-0.5*t**2 + t*y - 0.5*y**2 - 0.5*z**2))), (224.688794806529*(-2.0*t + 2.0*y)*sqrt(t**2 - 2*t*y + x**2 + y**2 + z**2)/(0.5*t**2 - t*y + 0.5*x**2 + 0.5*y**2 + 0.5*z**2)**2 + 898.755179226117*(t - y)/((1.0*t**2 - 2.0*t*y + 1.0*x**2 + 1.0*y**2 + 1.0*z**2)*sqrt(t**2 - 2*t*y + x**2 + y**2 + z**2)), True)), (t, -5, 5)), Eq(x, 0)), (Integral(Piecewise((42648748885.4028*(-0.5*t + y/2)/(sqrt(-0.5*t**2 + t*y - 0.5*y**2 - 0.5*z**2)*(1.11022302462516e-16*t**2 - 2.22044604925031e-16*t*y + 1.11022302462516e-16*y**2 + 1.11022302462516e-16*z**2)) + 8.65019393977023e+41*(-2.22044604925031e-16*t + 2.22044604925031e-16*y)*sqrt(-0.5*t**2 + t*y - 0.5*y**2 - 0.5*z**2)/(0.5*t**2 - t*y + 0.5*y**2 + 0.5*z**2)**2, Eq(x, -1.4142135623731*sqrt(-0.5*t**2 + t*y - 0.5*y**2 - 0.5*z**2)) | Eq(x, 1.4142135623731*sqrt(-0.5*t**2 + t*y - 0.5*y**2 - 0.5*z**2))), (224.688794806529*(-2.0*t + 2.0*y)*sqrt(t**2 - 2*t*y + x**2 + y**2 + z**2)/(0.5*t**2 - t*y + 0.5*x**2 + 0.5*y**2 + 0.5*z**2)**2 + 898.755179226117*(t - y)/((1.0*t**2 - 2.0*t*y + 1.0*x**2 + 1.0*y**2 + 1.0*z**2)*sqrt(t**2 - 2*t*y + x**2 + y**2 + z**2)), True)), (t, -5, 5)), True))],\n",
       "[                                                                                                                                                                                                                                                                                                                                                                                                                                                                                                                                                                                                                                                                                                                                                                                                                                                                                                                                                                                                                                                                                                                                                                                                                                                                                                                                                                                                                                                                                      898.755179226117*z*(5 - y)/(sqrt((5 - y)**2/polar_lift(x**2 + z**2) + 1)*polar_lift(x**2 + z**2)**(3/2)) - 898.755179226117*z*(-y - 5)/(sqrt((-y - 5)**2/polar_lift(x**2 + z**2) + 1)*polar_lift(x**2 + z**2)**(3/2))]])"
      ]
     },
     "execution_count": 18,
     "metadata": {},
     "output_type": "execute_result"
    }
   ],
   "source": [
    "# Definite integration from t = -5 to t = 5\n",
    "smp.integrate(dEdt, (t, -5, 5))"
   ]
  },
  {
   "cell_type": "code",
   "execution_count": 25,
   "id": "0f55419f-ccd8-4c10-86e8-8e4dc80316d2",
   "metadata": {},
   "outputs": [
    {
     "data": {
      "text/latex": [
       "$\\displaystyle \\frac{898.755179226117 x}{\\left(x^{2} + z^{2} + \\left(t - y\\right)^{2}\\right)^{\\frac{3}{2}}}$"
      ],
      "text/plain": [
       "898.755179226117*x/(x**2 + z**2 + (t - y)**2)**(3/2)"
      ]
     },
     "execution_count": 25,
     "metadata": {},
     "output_type": "execute_result"
    }
   ],
   "source": [
    "dEdt[0]"
   ]
  },
  {
   "cell_type": "code",
   "execution_count": 33,
   "id": "086a9986-aebf-4080-b514-8cbd96a82d28",
   "metadata": {},
   "outputs": [
    {
     "data": {
      "text/plain": [
       "17.157316098228257"
      ]
     },
     "execution_count": 33,
     "metadata": {},
     "output_type": "execute_result"
    }
   ],
   "source": [
    "# แปลงเป็น Numpy Functions\n",
    "dExdt = smp.lambdify([t, x, y, z], dEdt[0])\n",
    "dEydt = smp.lambdify([t, x, y, z], dEdt[1])\n",
    "dEzdt = smp.lambdify([t, x, y, z], dEdt[2])\n",
    "\n",
    "dExdt(0, 1, 2, 3)"
   ]
  },
  {
   "cell_type": "code",
   "execution_count": 36,
   "id": "258ed86b-1cfb-4dc1-b090-384a635ec7f4",
   "metadata": {},
   "outputs": [
    {
     "data": {
      "text/plain": [
       "143.7621443189147"
      ]
     },
     "execution_count": 36,
     "metadata": {},
     "output_type": "execute_result"
    }
   ],
   "source": [
    "quad(dExdt, -5, 5, args=(1, 2, 3))[0]"
   ]
  },
  {
   "cell_type": "code",
   "execution_count": 42,
   "id": "4a2d0c1b-2797-4b36-8303-d5c9d688a6be",
   "metadata": {},
   "outputs": [
    {
     "data": {
      "text/plain": [
       "array([8.98395462e+03, 7.18428768e+00, 8.98395462e+03])"
      ]
     },
     "execution_count": 42,
     "metadata": {},
     "output_type": "execute_result"
    }
   ],
   "source": [
    "def E(x, y, z):\n",
    "    Ex = quad(dExdt, -5, 5, args=(x, y, z))[0]\n",
    "    Ey = quad(dEydt, -5, 5, args=(x, y, z))[0]\n",
    "    Ez = quad(dEzdt, -5, 5, args=(x, y, z))[0]\n",
    "    return np.array([Ex, Ey, Ez])\n",
    "\n",
    "E(0.1, 0.1, 0.1)"
   ]
  },
  {
   "cell_type": "code",
   "execution_count": 41,
   "id": "f6beab7a-5de0-4540-8ffb-397306376719",
   "metadata": {},
   "outputs": [
    {
     "data": {
      "text/plain": [
       "12705.232496925531"
      ]
     },
     "execution_count": 41,
     "metadata": {},
     "output_type": "execute_result"
    }
   ],
   "source": [
    "np.linalg.norm(E(0.1, 0.1, 0.1))"
   ]
  },
  {
   "cell_type": "markdown",
   "id": "b100296f-4ba5-4c81-aa66-68f89cebbaa5",
   "metadata": {},
   "source": [
    "ทดสอบการทำงานของฟังก์ชันดังกล่าว โดยนำไปใช้ในการหาค่าของสนามไฟฟ้า ณ จุดต่าง ๆ ที่แตกต่างกันตามที่นิสิตสนใจ จำนวน 4 จุด"
   ]
  },
  {
   "cell_type": "code",
   "execution_count": 44,
   "id": "1e056827-98ae-4fa6-baaa-6aa34357dc15",
   "metadata": {},
   "outputs": [
    {
     "data": {
      "text/plain": [
       "array([8983.95892712,    0.        , 8983.95892712])"
      ]
     },
     "execution_count": 44,
     "metadata": {},
     "output_type": "execute_result"
    }
   ],
   "source": [
    "#1\n",
    "E(0.1, 0, 0.1)"
   ]
  }
 ],
 "metadata": {
  "kernelspec": {
   "display_name": "Python 3 (ipykernel)",
   "language": "python",
   "name": "python3"
  },
  "language_info": {
   "codemirror_mode": {
    "name": "ipython",
    "version": 3
   },
   "file_extension": ".py",
   "mimetype": "text/x-python",
   "name": "python",
   "nbconvert_exporter": "python",
   "pygments_lexer": "ipython3",
   "version": "3.11.7"
  }
 },
 "nbformat": 4,
 "nbformat_minor": 5
}
