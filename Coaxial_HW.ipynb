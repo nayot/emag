{
 "cells": [
  {
   "cell_type": "code",
   "execution_count": null,
   "id": "8c2e520b-7ea2-46a8-b5a4-411c979e872f",
   "metadata": {},
   "outputs": [],
   "source": [
    "import numpy as np\n",
    "import matplotlib.pyplot as plt\n",
    "from libemag.emag_initials import *\n",
    "from libemag.plots import field_plot\n",
    "import sympy as smp\n",
    "from scipy.integrate import dblquad\n",
    "from joblib import Parallel, delayed"
   ]
  },
  {
   "cell_type": "markdown",
   "id": "c1b83ffe-5beb-44c5-9f01-3ae646b7d367",
   "metadata": {},
   "source": [
    "# Homework 1\n",
    "![pic1](https://drive.google.com/file/d/1OMaPoqokSkXEMfJ0cwvNFo2ydwMDjpik/view?usp=sharing)"
   ]
  },
  {
   "cell_type": "code",
   "execution_count": null,
   "id": "3886b213-b0e6-4e82-a514-f463ad257d45",
   "metadata": {},
   "outputs": [],
   "source": []
  },
  {
   "cell_type": "code",
   "execution_count": null,
   "id": "eb822260-50b7-4468-9691-091fb3419a16",
   "metadata": {},
   "outputs": [],
   "source": []
  },
  {
   "cell_type": "code",
   "execution_count": null,
   "id": "290684e1-95c4-4797-8b48-f664f10d7965",
   "metadata": {},
   "outputs": [],
   "source": []
  },
  {
   "cell_type": "code",
   "execution_count": null,
   "id": "72814e06-d14f-4a0b-97f9-82943d2314c7",
   "metadata": {},
   "outputs": [],
   "source": []
  },
  {
   "cell_type": "code",
   "execution_count": null,
   "id": "c5359a2e-301c-4b92-acf3-3b9fbd9ade22",
   "metadata": {},
   "outputs": [],
   "source": []
  }
 ],
 "metadata": {
  "kernelspec": {
   "display_name": "Python 3 (ipykernel)",
   "language": "python",
   "name": "python3"
  },
  "language_info": {
   "codemirror_mode": {
    "name": "ipython",
    "version": 3
   },
   "file_extension": ".py",
   "mimetype": "text/x-python",
   "name": "python",
   "nbconvert_exporter": "python",
   "pygments_lexer": "ipython3",
   "version": "3.11.7"
  }
 },
 "nbformat": 4,
 "nbformat_minor": 5
}
