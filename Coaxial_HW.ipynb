{
 "cells": [
  {
   "cell_type": "code",
   "execution_count": null,
   "id": "8c2e520b-7ea2-46a8-b5a4-411c979e872f",
   "metadata": {},
   "outputs": [],
   "source": [
    "import numpy as np\n",
    "import matplotlib.pyplot as plt\n",
    "from libemag.emag_initials import *\n",
    "from libemag.plots import field_plot\n",
    "import sympy as smp\n",
    "from scipy.integrate import dblquad\n",
    "from joblib import Parallel, delayed"
   ]
  },
  {
   "cell_type": "markdown",
   "id": "9c1a2ccc-7da6-4cb6-8de2-215ed36061ec",
   "metadata": {},
   "source": [
    "## สนามไฟฟ้าจากประจุใด ๆ\n",
    "$$\\mathbf{dE}=\\frac{dq}{4\\pi\\epsilon_0}\\frac{\\mathbf{r-r'}}{|\\mathbf{r-r'}|^3}$$\n",
    "$$\\mathbf{E(r)}=\\int\\mathbf{dE}$$\n",
    "\n",
    "### Line Charge\n",
    "$$dq=\\rho_l(r')|d\\mathbf{r'}|$$\n",
    "\n",
    "Parameterised\n",
    "$$dq=\\rho_l(r')\\left\\|\\frac{d\\mathbf{r'}}{dt}\\right\\|dt$$\n",
    "\n",
    "## Surface Charge\n",
    "$$dq=\\rho_s(r')ds$$\n",
    "Parameterised\n",
    "$$dq=\\rho_l(r')\\left\\|\\frac{d\\mathbf{r'}}{du}\\times\\frac{d\\mathbf{r'}}{dv}\\right\\|dudv$$\n",
    "\n",
    "## Volume Charge (Cylinder)\n",
    "$$dq=\\rho_v(r')dv$$\n",
    "Parameterised\n",
    "$$dq=\\rho_v(r')\\left\\|\\frac{d\\mathbf{r'}}{d\\rho}\\times\\frac{d\\mathbf{r'}}{d\\phi}\\right\\|d\\rho d\\phi dz$$"
   ]
  },
  {
   "cell_type": "markdown",
   "id": "c1b83ffe-5beb-44c5-9f01-3ae646b7d367",
   "metadata": {},
   "source": [
    "# HW1\n",
    "<img src=\"https://github.com/nayot/emag/blob/main/pics/Emag000.png?raw=true\" alt=\"Image\" style=\"width: 50%;\"/>\n",
    "(ก) จงเขียนโปรแกรมเพื่อหาสนามไฟฟ้า $\\mathbf{E}(x, y, z)$ เนื่องจากประจุไฟฟ้ารูปทรงกระบอกตัน ที่มีความหนาแน่นประจุ $\\rho_v=1~\\mu C/m^3$ มีรัศมี $1~cm$ และมีความยาว $10~m$\n"
   ]
  },
  {
   "cell_type": "code",
   "execution_count": null,
   "id": "3886b213-b0e6-4e82-a514-f463ad257d45",
   "metadata": {},
   "outputs": [],
   "source": []
  },
  {
   "cell_type": "code",
   "execution_count": null,
   "id": "eb822260-50b7-4468-9691-091fb3419a16",
   "metadata": {},
   "outputs": [],
   "source": []
  },
  {
   "cell_type": "code",
   "execution_count": null,
   "id": "290684e1-95c4-4797-8b48-f664f10d7965",
   "metadata": {},
   "outputs": [],
   "source": []
  },
  {
   "cell_type": "code",
   "execution_count": null,
   "id": "72814e06-d14f-4a0b-97f9-82943d2314c7",
   "metadata": {},
   "outputs": [],
   "source": []
  },
  {
   "cell_type": "code",
   "execution_count": null,
   "id": "c5359a2e-301c-4b92-acf3-3b9fbd9ade22",
   "metadata": {},
   "outputs": [],
   "source": []
  },
  {
   "cell_type": "code",
   "execution_count": null,
   "id": "efac243a-fd54-4088-86ef-6f997c3bb377",
   "metadata": {},
   "outputs": [],
   "source": []
  },
  {
   "cell_type": "code",
   "execution_count": null,
   "id": "99f85424-4f59-4972-9869-d904b04acd05",
   "metadata": {},
   "outputs": [],
   "source": []
  },
  {
   "cell_type": "markdown",
   "id": "0ab971e1-7908-4e95-a556-ddd00e9e6667",
   "metadata": {},
   "source": [
    "(ข) จงพล็อตขนาดของสนามไฟฟ้า $|\\mathbf{E}(x, 0, 0)|$ เมื่อ $y=z=0$"
   ]
  },
  {
   "cell_type": "code",
   "execution_count": null,
   "id": "d20fb92e-7265-4ddd-86b1-e943e1c363aa",
   "metadata": {},
   "outputs": [],
   "source": []
  },
  {
   "cell_type": "code",
   "execution_count": null,
   "id": "48f832a2-b711-40f4-ad11-a178c09a7487",
   "metadata": {},
   "outputs": [],
   "source": []
  },
  {
   "cell_type": "code",
   "execution_count": null,
   "id": "6e2b99d2-ba3d-4a35-8799-b412acaab4a7",
   "metadata": {},
   "outputs": [],
   "source": []
  },
  {
   "cell_type": "code",
   "execution_count": null,
   "id": "974ce505-bbe4-4bdb-8edc-8fdf547cf061",
   "metadata": {},
   "outputs": [],
   "source": []
  },
  {
   "cell_type": "code",
   "execution_count": null,
   "id": "43f705b2-c685-4aa4-b24b-cb6f5d7ebc32",
   "metadata": {},
   "outputs": [],
   "source": []
  },
  {
   "cell_type": "code",
   "execution_count": null,
   "id": "8e20c005-715f-4b55-bf7d-580619df9534",
   "metadata": {},
   "outputs": [],
   "source": []
  },
  {
   "cell_type": "code",
   "execution_count": null,
   "id": "c621b7af-5e47-41d0-bdb3-387af05b6497",
   "metadata": {},
   "outputs": [],
   "source": []
  },
  {
   "cell_type": "code",
   "execution_count": null,
   "id": "59a8970a-f6f5-4b1c-97d5-917bbc4f3b83",
   "metadata": {},
   "outputs": [],
   "source": []
  },
  {
   "cell_type": "code",
   "execution_count": null,
   "id": "af72c440-2b6a-4803-9245-0d7769a4355c",
   "metadata": {},
   "outputs": [],
   "source": []
  },
  {
   "cell_type": "markdown",
   "id": "d6ee394c-0a3c-4801-b50d-d38ba568cd27",
   "metadata": {},
   "source": [
    "# HW2\n",
    "<img src=\"https://github.com/nayot/emag/blob/main/pics/Emag001.png?raw=true\" alt=\"Image\" style=\"width: 50%;\"/>\n",
    "(ก) จงเขียนโปรแกรมเพื่อหาสนามไฟฟ้า $\\mathbf{E}(x, y, z)$ เนื่องจากประจุไฟฟ้าทรงกระบอกกลวงแกนร่วม โดยที่ประจุตัวในมีขนาด $10~mu C$ และประจุตัวนอกมีขนาด $-10~\\mu C$ ประจุนี้มีความยาว $10~m$"
   ]
  },
  {
   "cell_type": "code",
   "execution_count": null,
   "id": "0625dfa6-9b89-478a-8293-34af673f153a",
   "metadata": {},
   "outputs": [],
   "source": []
  },
  {
   "cell_type": "code",
   "execution_count": null,
   "id": "22621d86-2d5e-44de-ad5e-9d13c76aa8a9",
   "metadata": {},
   "outputs": [],
   "source": []
  },
  {
   "cell_type": "code",
   "execution_count": null,
   "id": "33265e5a-d617-444e-a226-7539b759868c",
   "metadata": {},
   "outputs": [],
   "source": []
  },
  {
   "cell_type": "code",
   "execution_count": null,
   "id": "29a8820b-f866-420f-8e73-5b4ced3b9dcf",
   "metadata": {},
   "outputs": [],
   "source": []
  },
  {
   "cell_type": "code",
   "execution_count": null,
   "id": "6c0656e7-6ac2-4413-a821-1df392e5080b",
   "metadata": {},
   "outputs": [],
   "source": []
  },
  {
   "cell_type": "code",
   "execution_count": null,
   "id": "fbed4460-e4d4-435c-bc57-97e33dfa2566",
   "metadata": {},
   "outputs": [],
   "source": []
  },
  {
   "cell_type": "code",
   "execution_count": null,
   "id": "501b2504-704d-442f-af48-31a8296ae100",
   "metadata": {},
   "outputs": [],
   "source": []
  },
  {
   "cell_type": "code",
   "execution_count": null,
   "id": "f73915f7-035c-4387-aa82-e53ee6971f5e",
   "metadata": {},
   "outputs": [],
   "source": []
  },
  {
   "cell_type": "code",
   "execution_count": null,
   "id": "ca3104e3-ed16-4049-883f-7f7d3798ac99",
   "metadata": {},
   "outputs": [],
   "source": []
  },
  {
   "cell_type": "markdown",
   "id": "806e48d3-1f13-46d4-9756-c990cd47b837",
   "metadata": {},
   "source": [
    "(ข) จงพล็อตขนาดของสนามไฟฟ้า $|\\mathbf{E}(x, 0, 0)|$ เมื่อ $y=z=0$"
   ]
  },
  {
   "cell_type": "code",
   "execution_count": null,
   "id": "b0913345-a9cf-48bb-908e-21068f221c43",
   "metadata": {},
   "outputs": [],
   "source": []
  },
  {
   "cell_type": "code",
   "execution_count": null,
   "id": "2b8cbb60-d1db-42bc-864a-076728da11ad",
   "metadata": {},
   "outputs": [],
   "source": []
  },
  {
   "cell_type": "code",
   "execution_count": null,
   "id": "9962e9c6-377c-4adb-bcd5-7d737c0736bf",
   "metadata": {},
   "outputs": [],
   "source": []
  },
  {
   "cell_type": "code",
   "execution_count": null,
   "id": "c6e38a85-ec8b-427e-9278-ffe22556a26d",
   "metadata": {},
   "outputs": [],
   "source": []
  },
  {
   "cell_type": "code",
   "execution_count": null,
   "id": "ddbc4d7a-9411-40d6-a877-4600892c6e0a",
   "metadata": {},
   "outputs": [],
   "source": []
  },
  {
   "cell_type": "code",
   "execution_count": null,
   "id": "4d4c3970-3ad5-41d0-8abf-78bfaac0542e",
   "metadata": {},
   "outputs": [],
   "source": []
  },
  {
   "cell_type": "code",
   "execution_count": null,
   "id": "e5e70bc5-5417-4b41-8219-5ef8cfbdec9f",
   "metadata": {},
   "outputs": [],
   "source": []
  },
  {
   "cell_type": "code",
   "execution_count": null,
   "id": "632d4541-aa81-425a-b8be-2a1a6ffdafc1",
   "metadata": {},
   "outputs": [],
   "source": []
  },
  {
   "cell_type": "code",
   "execution_count": null,
   "id": "946e3312-68d2-459d-8618-db1b3cf6752f",
   "metadata": {},
   "outputs": [],
   "source": []
  },
  {
   "cell_type": "code",
   "execution_count": null,
   "id": "2bfe5963-572e-4b04-9ac1-99a9086c7532",
   "metadata": {},
   "outputs": [],
   "source": []
  }
 ],
 "metadata": {
  "kernelspec": {
   "display_name": "Python 3 (ipykernel)",
   "language": "python",
   "name": "python3"
  },
  "language_info": {
   "codemirror_mode": {
    "name": "ipython",
    "version": 3
   },
   "file_extension": ".py",
   "mimetype": "text/x-python",
   "name": "python",
   "nbconvert_exporter": "python",
   "pygments_lexer": "ipython3",
   "version": "3.11.7"
  }
 },
 "nbformat": 4,
 "nbformat_minor": 5
}
