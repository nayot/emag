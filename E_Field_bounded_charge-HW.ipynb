{
 "cells": [
  {
   "cell_type": "markdown",
   "id": "f16041f9-3d01-4309-a93c-1915339c615b",
   "metadata": {
    "tags": []
   },
   "source": [
    "## สนามไฟฟ้าจากประจุใด ๆ\n",
    "$$\\mathbf{dE}=\\frac{dq}{4\\pi\\epsilon_0}\\frac{\\mathbf{r-r'}}{|\\mathbf{r-r'}|^3}$$\n",
    "$$\\mathbf{E(r)}=\\int\\mathbf{dE}$$\n",
    "\n",
    "### Line Charge\n",
    "$$dq=\\rho_l(r')|d\\mathbf{r'}|$$\n",
    "\n",
    "Parameterised\n",
    "$$dq=\\rho_l(r')\\left\\|\\frac{d\\mathbf{r'}}{dt}\\right\\|dt$$\n",
    "\n",
    "## Surface Charge\n",
    "$$dq=\\rho_s(r')ds$$\n",
    "Parameterised\n",
    "$$dq=\\rho_l(r')\\left\\|\\frac{d\\mathbf{r'}}{du}\\times\\frac{d\\mathbf{r'}}{dv}\\right\\|dudv$$"
   ]
  },
  {
   "cell_type": "markdown",
   "id": "e7fdfefe-559b-4776-b569-d40fcbe522ab",
   "metadata": {},
   "source": [
    "## HW1: E-Field inside a hollowed concentric spherical charge\n",
    "\n",
    "จงเขียนฟังก์ชัน E(x, y, z) เพื่อคำนวณหาสนามไฟฟ้าเนื่องจากประจุแบบทรงกลมกลวงซ้อนกัน 2 ลูกที่มีจุดศูนย์กลางร่วมกัน โดยทรงกลมตัวในมีประจุ $2.5~\\mu C$ และทรงกลมตัวนอกมีประจุ $-2.5~\\mu C$ ทรงกลมทั้งสองมีรัศมี $1~cm$ และ $2~cm$ ตามลำดับ\n",
    "\n",
    "![image](http://www.grandunification.com/gifs/Concentric_Spheres.gif)"
   ]
  },
  {
   "cell_type": "code",
   "execution_count": 1,
   "id": "9a51c66d-5df4-40af-a189-465048a424e0",
   "metadata": {
    "tags": []
   },
   "outputs": [],
   "source": [
    "import numpy as np\n",
    "import matplotlib.pyplot as plt\n",
    "from libemag.emag_initials import *\n",
    "from libemag.plots import field_plot\n",
    "import sympy as smp\n",
    "from scipy.integrate import dblquad"
   ]
  },
  {
   "cell_type": "code",
   "execution_count": null,
   "id": "ee687f23-ad10-4cde-b9a4-b0ceff5caf4d",
   "metadata": {},
   "outputs": [],
   "source": []
  },
  {
   "cell_type": "code",
   "execution_count": null,
   "id": "47e33945-7bbb-4a9c-aa02-97432c4d3d4b",
   "metadata": {},
   "outputs": [],
   "source": []
  },
  {
   "cell_type": "code",
   "execution_count": null,
   "id": "e4f72600-ade8-4642-8df1-9d2abfa36c5e",
   "metadata": {},
   "outputs": [],
   "source": []
  },
  {
   "cell_type": "code",
   "execution_count": null,
   "id": "35c52b09-af99-4e31-b9dd-9c43d6b44beb",
   "metadata": {},
   "outputs": [],
   "source": []
  },
  {
   "cell_type": "code",
   "execution_count": null,
   "id": "8acdb16a-88f3-46f7-8e1d-772019c781bb",
   "metadata": {},
   "outputs": [],
   "source": []
  },
  {
   "cell_type": "code",
   "execution_count": null,
   "id": "e9daea8b-2cb9-43c8-855e-4e251c40fa88",
   "metadata": {},
   "outputs": [],
   "source": []
  },
  {
   "cell_type": "markdown",
   "id": "e907b53b-ffd7-4e15-bf06-db32e63e72c4",
   "metadata": {},
   "source": [
    "จงกวาดกราฟเพื่อแสดงขนาดของสนามไฟฟ้าตามแนวแกน $x$ เมื่อให้ $y=z=0$ หรือ $|\\mathbf{E}(x, 0, 0)|$"
   ]
  },
  {
   "cell_type": "code",
   "execution_count": null,
   "id": "341db7eb-4b19-42c3-b03c-4bade578b7bd",
   "metadata": {},
   "outputs": [],
   "source": []
  },
  {
   "cell_type": "code",
   "execution_count": null,
   "id": "c480bdea-ad5b-45f1-8d05-9a54044f418a",
   "metadata": {},
   "outputs": [],
   "source": []
  },
  {
   "cell_type": "code",
   "execution_count": null,
   "id": "8c86d83f-9558-4eec-a62f-a699992ea5f5",
   "metadata": {},
   "outputs": [],
   "source": []
  },
  {
   "cell_type": "code",
   "execution_count": null,
   "id": "5c69dc4d-ea5c-4f3e-8d10-c63c9ef12e85",
   "metadata": {},
   "outputs": [],
   "source": []
  },
  {
   "cell_type": "code",
   "execution_count": null,
   "id": "a1499b1f-a0a3-4461-ac8e-a89c5a61c4e2",
   "metadata": {},
   "outputs": [],
   "source": []
  },
  {
   "cell_type": "code",
   "execution_count": null,
   "id": "ea482bb8-bb19-4f33-bf3c-a732c643631e",
   "metadata": {},
   "outputs": [],
   "source": []
  },
  {
   "cell_type": "code",
   "execution_count": null,
   "id": "7fa9b750-31d6-4421-98e4-9a09243b4fd7",
   "metadata": {},
   "outputs": [],
   "source": []
  },
  {
   "cell_type": "markdown",
   "id": "07eea8e4-8afd-489c-b790-fccb4e808217",
   "metadata": {},
   "source": [
    "### HW2: สนามไฟฟ้ารอบ ๆ ประจุแบบวงแหวน\n",
    "จงเขียนฟังก์ชันที่ E(x, y, z) ใช้ในการคำนวณหาสนามไฟฟ้า $\\mathbf{E(r)}$ รอบ ๆ ประจุแบบวงแหวนใน 3 มิติ ที่มีรัศมี $3~cm$ และมีประจุ $Q=1~nC$ \n",
    "![ring](https://i.stack.imgur.com/cbwYs.gif)"
   ]
  },
  {
   "cell_type": "code",
   "execution_count": null,
   "id": "76065ac8-3daa-4754-a8ba-762e6af3385d",
   "metadata": {},
   "outputs": [],
   "source": [
    "import numpy as np\n",
    "import matplotlib.pyplot as plt\n",
    "from libemag.emag_initials import *\n",
    "from libemag.plots import field_plot\n",
    "import sympy as smp\n",
    "from scipy.integrate import dblquad"
   ]
  },
  {
   "cell_type": "code",
   "execution_count": null,
   "id": "0af0ef1a-c141-4dec-9789-33f2f8bfcd80",
   "metadata": {},
   "outputs": [],
   "source": []
  },
  {
   "cell_type": "code",
   "execution_count": null,
   "id": "17576956-a4c5-4e32-8962-2fa6296016fe",
   "metadata": {},
   "outputs": [],
   "source": []
  },
  {
   "cell_type": "code",
   "execution_count": null,
   "id": "f9f82450-89d0-4703-8914-af1528749ea5",
   "metadata": {},
   "outputs": [],
   "source": []
  },
  {
   "cell_type": "code",
   "execution_count": null,
   "id": "22f52782-c6cb-428f-865d-75df2affe589",
   "metadata": {},
   "outputs": [],
   "source": []
  },
  {
   "cell_type": "code",
   "execution_count": null,
   "id": "e09dc315-563f-4eda-98d7-7373a4752111",
   "metadata": {},
   "outputs": [],
   "source": []
  },
  {
   "cell_type": "code",
   "execution_count": null,
   "id": "52301417-c9b6-41f3-99a5-2207649a662f",
   "metadata": {},
   "outputs": [],
   "source": []
  },
  {
   "cell_type": "code",
   "execution_count": null,
   "id": "da61abc4-df16-43fa-948f-2a06f5b4e28b",
   "metadata": {},
   "outputs": [],
   "source": []
  },
  {
   "cell_type": "code",
   "execution_count": null,
   "id": "828b37e2-7926-46eb-b56b-b428d08b7dd6",
   "metadata": {},
   "outputs": [],
   "source": []
  },
  {
   "cell_type": "code",
   "execution_count": null,
   "id": "1f21d774-22be-4da5-be49-be526b1886ce",
   "metadata": {},
   "outputs": [],
   "source": []
  },
  {
   "cell_type": "code",
   "execution_count": null,
   "id": "f80da212-90ed-458c-b86d-afe845b23fed",
   "metadata": {},
   "outputs": [],
   "source": []
  },
  {
   "cell_type": "code",
   "execution_count": null,
   "id": "f6b4fc5d-f06f-4fcb-8547-e3ed546caee9",
   "metadata": {},
   "outputs": [],
   "source": []
  }
 ],
 "metadata": {
  "kernelspec": {
   "display_name": "Python 3 (ipykernel)",
   "language": "python",
   "name": "python3"
  },
  "language_info": {
   "codemirror_mode": {
    "name": "ipython",
    "version": 3
   },
   "file_extension": ".py",
   "mimetype": "text/x-python",
   "name": "python",
   "nbconvert_exporter": "python",
   "pygments_lexer": "ipython3",
   "version": "3.11.7"
  }
 },
 "nbformat": 4,
 "nbformat_minor": 5
}
