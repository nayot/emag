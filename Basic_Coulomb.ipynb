{
 "cells": [
  {
   "cell_type": "markdown",
   "id": "70b8d6f5-ca30-4250-a8c5-3daf170665fc",
   "metadata": {},
   "source": [
    "**แรงเนื่องจากประจุ 2 ตัว**"
   ]
  },
  {
   "cell_type": "code",
   "execution_count": 19,
   "id": "6d61b482-5c99-4a1a-ad57-7efc28f30076",
   "metadata": {},
   "outputs": [],
   "source": [
    "import numpy as np\n",
    "from numpy.linalg import norm\n",
    "from scipy.constants import pi, epsilon_0"
   ]
  },
  {
   "cell_type": "code",
   "execution_count": 43,
   "id": "4c602c24-879a-4151-94c2-940dc5f69cd2",
   "metadata": {},
   "outputs": [],
   "source": [
    "Q1 = 10e-6\n",
    "Q2 = 25e-6"
   ]
  },
  {
   "cell_type": "code",
   "execution_count": 44,
   "id": "e0fb152c-c337-445f-b762-63272a68dba4",
   "metadata": {},
   "outputs": [],
   "source": [
    "r1 = np.array([3, 4, 5]) * 1e-2\n",
    "r2 = np.array([-1, 2, -3]) * 1e-2"
   ]
  },
  {
   "cell_type": "code",
   "execution_count": 45,
   "id": "9a9d11f6-836e-4293-ba1f-726d49669e75",
   "metadata": {},
   "outputs": [
    {
     "data": {
      "text/plain": [
       "array([0.04, 0.02, 0.08])"
      ]
     },
     "execution_count": 45,
     "metadata": {},
     "output_type": "execute_result"
    }
   ],
   "source": [
    "R = r1 - r2\n",
    "R"
   ]
  },
  {
   "cell_type": "code",
   "execution_count": 46,
   "id": "0b72a3d9-eeda-4c6a-a889-daf3c4398d63",
   "metadata": {},
   "outputs": [
    {
     "data": {
      "text/plain": [
       "0.0916515138991168"
      ]
     },
     "execution_count": 46,
     "metadata": {},
     "output_type": "execute_result"
    }
   ],
   "source": [
    "norm(R)"
   ]
  },
  {
   "cell_type": "code",
   "execution_count": 47,
   "id": "3f60057d-bdd9-4ae5-9918-ae740564e237",
   "metadata": {
    "scrolled": true
   },
   "outputs": [
    {
     "data": {
      "text/plain": [
       "array([116.74074943,  58.37037472, 233.48149887])"
      ]
     },
     "execution_count": 47,
     "metadata": {},
     "output_type": "execute_result"
    }
   ],
   "source": [
    "F1 = ((Q1 * Q2) / (4 * pi * epsilon_0)) * (R / norm(R)**3)\n",
    "F1"
   ]
  },
  {
   "cell_type": "code",
   "execution_count": 48,
   "id": "d5b799c1-2597-4f86-91f2-62d2762a2f47",
   "metadata": {},
   "outputs": [
    {
     "data": {
      "text/plain": [
       "267.4866604839635"
      ]
     },
     "execution_count": 48,
     "metadata": {},
     "output_type": "execute_result"
    }
   ],
   "source": [
    "# ขนาดของ F1\n",
    "norm(F1)"
   ]
  },
  {
   "cell_type": "code",
   "execution_count": 49,
   "id": "13d2ba50-5dc7-4e6d-a88e-eaa4df11add8",
   "metadata": {},
   "outputs": [
    {
     "data": {
      "text/plain": [
       "array([0.43643578, 0.21821789, 0.87287156])"
      ]
     },
     "execution_count": 49,
     "metadata": {},
     "output_type": "execute_result"
    }
   ],
   "source": [
    "# Unit Vector ที่มีทิศทางเดียวกันกับ F1\n",
    "F1 / norm(F1)"
   ]
  },
  {
   "cell_type": "markdown",
   "id": "95e56475-e37c-4920-9572-80d445235693",
   "metadata": {},
   "source": [
    "**Ex: แรงเนื่องจากสนามไฟฟ้า**"
   ]
  },
  {
   "cell_type": "code",
   "execution_count": 63,
   "id": "48892459-d32e-4ec4-beeb-1f64a9ca6a2a",
   "metadata": {},
   "outputs": [],
   "source": [
    "def E_func(x, y, z):\n",
    "    sqrtxy = np.sqrt(x**2 + y**2)\n",
    "    return np.array([4.0 * np.sin(x / sqrtxy), 3.0 * np.cos(y / sqrtxy), 0.0])"
   ]
  },
  {
   "cell_type": "code",
   "execution_count": 64,
   "id": "ea82635d-9bae-41fa-a8d1-4189bda67f33",
   "metadata": {},
   "outputs": [
    {
     "data": {
      "text/plain": [
       "array([1.72981936, 1.87789687, 0.        ])"
      ]
     },
     "execution_count": 64,
     "metadata": {},
     "output_type": "execute_result"
    }
   ],
   "source": [
    "E_func(1, 2, 3)"
   ]
  },
  {
   "cell_type": "code",
   "execution_count": 66,
   "id": "3a4a5b9d-ecc5-45cf-82a9-dad9ff1f484d",
   "metadata": {},
   "outputs": [
    {
     "data": {
      "text/plain": [
       "array([-0.02598548, -0.02280734, -0.        ])"
      ]
     },
     "execution_count": 66,
     "metadata": {},
     "output_type": "execute_result"
    }
   ],
   "source": [
    "E = E_func(1, 1, 1)\n",
    "q = -10e-3\n",
    "q * E"
   ]
  },
  {
   "cell_type": "code",
   "execution_count": 67,
   "id": "b40b5353-dbec-499f-be52-56f99627bd34",
   "metadata": {},
   "outputs": [
    {
     "data": {
      "text/plain": [
       "array([2.59854776, 2.28073379, 0.        ])"
      ]
     },
     "execution_count": 67,
     "metadata": {},
     "output_type": "execute_result"
    }
   ],
   "source": [
    "E_func(1, 1, 1)"
   ]
  },
  {
   "cell_type": "code",
   "execution_count": 69,
   "id": "db211de9-ecce-4ad8-a7b6-4075202aca0f",
   "metadata": {},
   "outputs": [
    {
     "data": {
      "text/plain": [
       "array([-1.72981936,  1.87789687,  0.        ])"
      ]
     },
     "execution_count": 69,
     "metadata": {},
     "output_type": "execute_result"
    }
   ],
   "source": [
    "E_func(-1, 2, 0)"
   ]
  },
  {
   "cell_type": "markdown",
   "id": "3381271e-6892-459c-8cb2-0d8e99f52a20",
   "metadata": {},
   "source": [
    "**สนามไฟฟ้าเนื่องจากประจุแบบจุด**\n",
    "\n",
    "สำหรับประจุ Q = -2.5 mC วางอยู่ที่ตำแหน่ง (0,0,0)"
   ]
  },
  {
   "cell_type": "code",
   "execution_count": 70,
   "id": "e38fcc69-69e9-4d3b-bb0e-1fd923346466",
   "metadata": {},
   "outputs": [],
   "source": [
    "def E_func(x, y, z):\n",
    "    Q = -2.5e-3\n",
    "    rp = np.array([0, 0, 0])\n",
    "    r = np.array([x, y, z])\n",
    "    R = r - rp\n",
    "    return Q / (4.0 * pi * epsilon_0) * R / norm(R)**3"
   ]
  },
  {
   "cell_type": "code",
   "execution_count": 72,
   "id": "969053d9-d9a8-4475-a2c9-b0418e61ac37",
   "metadata": {},
   "outputs": [
    {
     "data": {
      "text/plain": [
       "array([-4324137.87218141,  4324137.87218141, -4324137.87218141])"
      ]
     },
     "execution_count": 72,
     "metadata": {},
     "output_type": "execute_result"
    }
   ],
   "source": [
    "E_func(1, -1, 1)"
   ]
  },
  {
   "cell_type": "markdown",
   "id": "5e753b1b-3fba-47a9-924f-79d57c1b719f",
   "metadata": {},
   "source": [
    "**กราฟของสนามไฟฟ้าใน 2 มิติ**"
   ]
  },
  {
   "cell_type": "code",
   "execution_count": 3,
   "id": "303ee549-3efb-49f4-8fa6-891e6eea0488",
   "metadata": {},
   "outputs": [],
   "source": [
    "import numpy as np\n",
    "from numpy.linalg import norm\n",
    "from scipy.constants import pi, epsilon_0\n",
    "\n",
    "def E_func(x, y):\n",
    "    Q = 2.5e-9\n",
    "    rp = np.array([5, 5])\n",
    "    r = np.array([x, y])\n",
    "    R = r - rp\n",
    "    return Q / (4.0 * pi * epsilon_0) * R / norm(R)**3"
   ]
  },
  {
   "cell_type": "markdown",
   "id": "7cdf483d-2d71-44a6-ae0a-503ffc9a4133",
   "metadata": {},
   "source": [
    "**ฟังก์ชัน vector_plot**\n",
    "\n",
    "สามารถใช้ฟังก์ชันนี้ในการพล็อตสนามเวคเตอร์ใน 2 มิติ ด้วยการส่งผ่านฟังก์ชันที่ใช้ในการคำนวณสนามเป็น input"
   ]
  },
  {
   "cell_type": "code",
   "execution_count": 16,
   "id": "28c37602-d4c7-473f-a8a5-a5485d71f783",
   "metadata": {},
   "outputs": [],
   "source": [
    "# 2D Vector Field Plot Function\n",
    "import matplotlib.pyplot as plt\n",
    "# scienceplots package ช่วยให้สามารถปรับแต่งให้กราฟสวยขึ้น แต่สำหรับบางเครื่องที่ไม่มีระบบจะ skip คำสั่งนี้โดยอัตโนมัติ\n",
    "try:\n",
    "    import scienceplots\n",
    "    plt.style.use(['science', 'grid', 'notebook'])\n",
    "except ImportError:\n",
    "    pass\n",
    "# ฟังก์ชันสำหรับ plot กราฟเวคเตอร์ โดยรับฟังกชัน field_func ซึ่งใช้ในการคำนวณค่าของสนาม ณ จุดต่าง ๆ\n",
    "def vector_plot(field_func, num_grids=20, x_min=-10, x_max=10, y_min=-10, y_max=10):\n",
    "    x = np.linspace(x_min, x_max, num_grids)\n",
    "    y = np.linspace(y_min, y_max, num_grids)\n",
    "    \n",
    "    X, Y = np.meshgrid(x, y)\n",
    "    \n",
    "    E_field = np.vectorize(field_func, signature='(),()->(n)')(X, Y)\n",
    "    \n",
    "    Ex = E_field[:,:,0]\n",
    "    Ey = E_field[:,:,1]\n",
    "    \n",
    "    Emax = np.std(Ex) * 0.05\n",
    "    Ex[Ex>Emax] = Emax\n",
    "    Ey[Ey>Emax] = Emax\n",
    "    Ex[Ex<-Emax] = -Emax\n",
    "    Ey[Ey<-Emax] = -Emax\n",
    "    \n",
    "    plt.quiver(X, Y, Ex, Ey)"
   ]
  },
  {
   "cell_type": "code",
   "execution_count": 17,
   "id": "59f908be-97e4-4dee-a013-7c1b42cb1e55",
   "metadata": {},
   "outputs": [
    {
     "ename": "ValueError",
     "evalue": "operands could not be broadcast together with shapes (2,20) (2,) ",
     "output_type": "error",
     "traceback": [
      "\u001b[1;31m---------------------------------------------------------------------------\u001b[0m",
      "\u001b[1;31mValueError\u001b[0m                                Traceback (most recent call last)",
      "Cell \u001b[1;32mIn[17], line 1\u001b[0m\n\u001b[1;32m----> 1\u001b[0m vector_plot(E_func)\n",
      "Cell \u001b[1;32mIn[16], line 16\u001b[0m, in \u001b[0;36mvector_plot\u001b[1;34m(field_func, num_grids, x_min, x_max, y_min, y_max)\u001b[0m\n\u001b[0;32m     12\u001b[0m y \u001b[38;5;241m=\u001b[39m np\u001b[38;5;241m.\u001b[39mlinspace(y_min, y_max, num_grids)\n\u001b[0;32m     14\u001b[0m X, Y \u001b[38;5;241m=\u001b[39m np\u001b[38;5;241m.\u001b[39mmeshgrid(x, y)\n\u001b[1;32m---> 16\u001b[0m E_field \u001b[38;5;241m=\u001b[39m np\u001b[38;5;241m.\u001b[39mvectorize(field_func, signature\u001b[38;5;241m=\u001b[39m\u001b[38;5;124m'\u001b[39m\u001b[38;5;124m(n),(n)->(n)\u001b[39m\u001b[38;5;124m'\u001b[39m)(X, Y)\n\u001b[0;32m     18\u001b[0m Ex \u001b[38;5;241m=\u001b[39m E_field[:,:,\u001b[38;5;241m0\u001b[39m]\n\u001b[0;32m     19\u001b[0m Ey \u001b[38;5;241m=\u001b[39m E_field[:,:,\u001b[38;5;241m1\u001b[39m]\n",
      "File \u001b[1;32mc:\\Users\\nayot\\AppData\\Local\\anaconda3\\Lib\\site-packages\\numpy\\lib\\function_base.py:2372\u001b[0m, in \u001b[0;36mvectorize.__call__\u001b[1;34m(self, *args, **kwargs)\u001b[0m\n\u001b[0;32m   2369\u001b[0m     \u001b[38;5;28mself\u001b[39m\u001b[38;5;241m.\u001b[39m_init_stage_2(\u001b[38;5;241m*\u001b[39margs, \u001b[38;5;241m*\u001b[39m\u001b[38;5;241m*\u001b[39mkwargs)\n\u001b[0;32m   2370\u001b[0m     \u001b[38;5;28;01mreturn\u001b[39;00m \u001b[38;5;28mself\u001b[39m\n\u001b[1;32m-> 2372\u001b[0m \u001b[38;5;28;01mreturn\u001b[39;00m \u001b[38;5;28mself\u001b[39m\u001b[38;5;241m.\u001b[39m_call_as_normal(\u001b[38;5;241m*\u001b[39margs, \u001b[38;5;241m*\u001b[39m\u001b[38;5;241m*\u001b[39mkwargs)\n",
      "File \u001b[1;32mc:\\Users\\nayot\\AppData\\Local\\anaconda3\\Lib\\site-packages\\numpy\\lib\\function_base.py:2365\u001b[0m, in \u001b[0;36mvectorize._call_as_normal\u001b[1;34m(self, *args, **kwargs)\u001b[0m\n\u001b[0;32m   2362\u001b[0m     vargs \u001b[38;5;241m=\u001b[39m [args[_i] \u001b[38;5;28;01mfor\u001b[39;00m _i \u001b[38;5;129;01min\u001b[39;00m inds]\n\u001b[0;32m   2363\u001b[0m     vargs\u001b[38;5;241m.\u001b[39mextend([kwargs[_n] \u001b[38;5;28;01mfor\u001b[39;00m _n \u001b[38;5;129;01min\u001b[39;00m names])\n\u001b[1;32m-> 2365\u001b[0m \u001b[38;5;28;01mreturn\u001b[39;00m \u001b[38;5;28mself\u001b[39m\u001b[38;5;241m.\u001b[39m_vectorize_call(func\u001b[38;5;241m=\u001b[39mfunc, args\u001b[38;5;241m=\u001b[39mvargs)\n",
      "File \u001b[1;32mc:\\Users\\nayot\\AppData\\Local\\anaconda3\\Lib\\site-packages\\numpy\\lib\\function_base.py:2446\u001b[0m, in \u001b[0;36mvectorize._vectorize_call\u001b[1;34m(self, func, args)\u001b[0m\n\u001b[0;32m   2444\u001b[0m \u001b[38;5;250m\u001b[39m\u001b[38;5;124;03m\"\"\"Vectorized call to `func` over positional `args`.\"\"\"\u001b[39;00m\n\u001b[0;32m   2445\u001b[0m \u001b[38;5;28;01mif\u001b[39;00m \u001b[38;5;28mself\u001b[39m\u001b[38;5;241m.\u001b[39msignature \u001b[38;5;129;01mis\u001b[39;00m \u001b[38;5;129;01mnot\u001b[39;00m \u001b[38;5;28;01mNone\u001b[39;00m:\n\u001b[1;32m-> 2446\u001b[0m     res \u001b[38;5;241m=\u001b[39m \u001b[38;5;28mself\u001b[39m\u001b[38;5;241m.\u001b[39m_vectorize_call_with_signature(func, args)\n\u001b[0;32m   2447\u001b[0m \u001b[38;5;28;01melif\u001b[39;00m \u001b[38;5;129;01mnot\u001b[39;00m args:\n\u001b[0;32m   2448\u001b[0m     res \u001b[38;5;241m=\u001b[39m func()\n",
      "File \u001b[1;32mc:\\Users\\nayot\\AppData\\Local\\anaconda3\\Lib\\site-packages\\numpy\\lib\\function_base.py:2486\u001b[0m, in \u001b[0;36mvectorize._vectorize_call_with_signature\u001b[1;34m(self, func, args)\u001b[0m\n\u001b[0;32m   2483\u001b[0m nout \u001b[38;5;241m=\u001b[39m \u001b[38;5;28mlen\u001b[39m(output_core_dims)\n\u001b[0;32m   2485\u001b[0m \u001b[38;5;28;01mfor\u001b[39;00m index \u001b[38;5;129;01min\u001b[39;00m np\u001b[38;5;241m.\u001b[39mndindex(\u001b[38;5;241m*\u001b[39mbroadcast_shape):\n\u001b[1;32m-> 2486\u001b[0m     results \u001b[38;5;241m=\u001b[39m func(\u001b[38;5;241m*\u001b[39m(arg[index] \u001b[38;5;28;01mfor\u001b[39;00m arg \u001b[38;5;129;01min\u001b[39;00m args))\n\u001b[0;32m   2488\u001b[0m     n_results \u001b[38;5;241m=\u001b[39m \u001b[38;5;28mlen\u001b[39m(results) \u001b[38;5;28;01mif\u001b[39;00m \u001b[38;5;28misinstance\u001b[39m(results, \u001b[38;5;28mtuple\u001b[39m) \u001b[38;5;28;01melse\u001b[39;00m \u001b[38;5;241m1\u001b[39m\n\u001b[0;32m   2490\u001b[0m     \u001b[38;5;28;01mif\u001b[39;00m nout \u001b[38;5;241m!=\u001b[39m n_results:\n",
      "Cell \u001b[1;32mIn[3], line 9\u001b[0m, in \u001b[0;36mE_func\u001b[1;34m(x, y)\u001b[0m\n\u001b[0;32m      7\u001b[0m rp \u001b[38;5;241m=\u001b[39m np\u001b[38;5;241m.\u001b[39marray([\u001b[38;5;241m5\u001b[39m, \u001b[38;5;241m5\u001b[39m])\n\u001b[0;32m      8\u001b[0m r \u001b[38;5;241m=\u001b[39m np\u001b[38;5;241m.\u001b[39marray([x, y])\n\u001b[1;32m----> 9\u001b[0m R \u001b[38;5;241m=\u001b[39m r \u001b[38;5;241m-\u001b[39m rp\n\u001b[0;32m     10\u001b[0m \u001b[38;5;28;01mreturn\u001b[39;00m Q \u001b[38;5;241m/\u001b[39m (\u001b[38;5;241m4.0\u001b[39m \u001b[38;5;241m*\u001b[39m pi \u001b[38;5;241m*\u001b[39m epsilon_0) \u001b[38;5;241m*\u001b[39m R \u001b[38;5;241m/\u001b[39m norm(R)\u001b[38;5;241m*\u001b[39m\u001b[38;5;241m*\u001b[39m\u001b[38;5;241m3\u001b[39m\n",
      "\u001b[1;31mValueError\u001b[0m: operands could not be broadcast together with shapes (2,20) (2,) "
     ]
    }
   ],
   "source": [
    "vector_plot(E_func)"
   ]
  },
  {
   "cell_type": "code",
   "execution_count": 7,
   "id": "3d6979e4",
   "metadata": {},
   "outputs": [
    {
     "name": "stdout",
     "output_type": "stream",
     "text": [
      "[25 49 81]\n"
     ]
    }
   ],
   "source": [
    "import numpy as np\n",
    "\n",
    "def add_and_square(a, b):\n",
    "    return (a + b) ** 2\n",
    "\n",
    "# Vectorize the function with a signature\n",
    "add_and_square_vec = np.vectorize(add_and_square, signature='(),()->()')\n",
    "\n",
    "a = np.array([1, 2, 3])\n",
    "b = np.array([4, 5, 6])\n",
    "\n",
    "result = add_and_square_vec(a, b)\n",
    "print(result)  # Output: [25 49 81]\n"
   ]
  },
  {
   "cell_type": "code",
   "execution_count": 30,
   "id": "9c7064dd",
   "metadata": {},
   "outputs": [
    {
     "data": {
      "text/plain": [
       "array([[[1.41421356, 0.        ],\n",
       "        [1.26686158, 0.        ],\n",
       "        [1.1439589 , 0.        ],\n",
       "        [1.05409255, 0.        ],\n",
       "        [1.0061539 , 0.        ],\n",
       "        [1.0061539 , 0.        ],\n",
       "        [1.05409255, 0.        ],\n",
       "        [1.1439589 , 0.        ],\n",
       "        [1.26686158, 0.        ],\n",
       "        [1.41421356, 0.        ]],\n",
       "\n",
       "       [[1.26686158, 0.        ],\n",
       "        [1.09994388, 0.        ],\n",
       "        [0.95581392, 0.        ],\n",
       "        [0.84619701, 0.        ],\n",
       "        [0.7856742 , 0.        ],\n",
       "        [0.7856742 , 0.        ],\n",
       "        [0.84619701, 0.        ],\n",
       "        [0.95581392, 0.        ],\n",
       "        [1.09994388, 0.        ],\n",
       "        [1.26686158, 0.        ]],\n",
       "\n",
       "       [[1.1439589 , 0.        ],\n",
       "        [0.95581392, 0.        ],\n",
       "        [0.7856742 , 0.        ],\n",
       "        [0.64788354, 0.        ],\n",
       "        [0.56655772, 0.        ],\n",
       "        [0.56655772, 0.        ],\n",
       "        [0.64788354, 0.        ],\n",
       "        [0.7856742 , 0.        ],\n",
       "        [0.95581392, 0.        ],\n",
       "        [1.1439589 , 0.        ]],\n",
       "\n",
       "       [[1.05409255, 0.        ],\n",
       "        [0.84619701, 0.        ],\n",
       "        [0.64788354, 0.        ],\n",
       "        [0.47140452, 0.        ],\n",
       "        [0.35136418, 0.        ],\n",
       "        [0.35136418, 0.        ],\n",
       "        [0.47140452, 0.        ],\n",
       "        [0.64788354, 0.        ],\n",
       "        [0.84619701, 0.        ],\n",
       "        [1.05409255, 0.        ]],\n",
       "\n",
       "       [[1.0061539 , 0.        ],\n",
       "        [0.7856742 , 0.        ],\n",
       "        [0.56655772, 0.        ],\n",
       "        [0.35136418, 0.        ],\n",
       "        [0.15713484, 0.        ],\n",
       "        [0.15713484, 0.        ],\n",
       "        [0.35136418, 0.        ],\n",
       "        [0.56655772, 0.        ],\n",
       "        [0.7856742 , 0.        ],\n",
       "        [1.0061539 , 0.        ]],\n",
       "\n",
       "       [[1.0061539 , 0.        ],\n",
       "        [0.7856742 , 0.        ],\n",
       "        [0.56655772, 0.        ],\n",
       "        [0.35136418, 0.        ],\n",
       "        [0.15713484, 0.        ],\n",
       "        [0.15713484, 0.        ],\n",
       "        [0.35136418, 0.        ],\n",
       "        [0.56655772, 0.        ],\n",
       "        [0.7856742 , 0.        ],\n",
       "        [1.0061539 , 0.        ]],\n",
       "\n",
       "       [[1.05409255, 0.        ],\n",
       "        [0.84619701, 0.        ],\n",
       "        [0.64788354, 0.        ],\n",
       "        [0.47140452, 0.        ],\n",
       "        [0.35136418, 0.        ],\n",
       "        [0.35136418, 0.        ],\n",
       "        [0.47140452, 0.        ],\n",
       "        [0.64788354, 0.        ],\n",
       "        [0.84619701, 0.        ],\n",
       "        [1.05409255, 0.        ]],\n",
       "\n",
       "       [[1.1439589 , 0.        ],\n",
       "        [0.95581392, 0.        ],\n",
       "        [0.7856742 , 0.        ],\n",
       "        [0.64788354, 0.        ],\n",
       "        [0.56655772, 0.        ],\n",
       "        [0.56655772, 0.        ],\n",
       "        [0.64788354, 0.        ],\n",
       "        [0.7856742 , 0.        ],\n",
       "        [0.95581392, 0.        ],\n",
       "        [1.1439589 , 0.        ]],\n",
       "\n",
       "       [[1.26686158, 0.        ],\n",
       "        [1.09994388, 0.        ],\n",
       "        [0.95581392, 0.        ],\n",
       "        [0.84619701, 0.        ],\n",
       "        [0.7856742 , 0.        ],\n",
       "        [0.7856742 , 0.        ],\n",
       "        [0.84619701, 0.        ],\n",
       "        [0.95581392, 0.        ],\n",
       "        [1.09994388, 0.        ],\n",
       "        [1.26686158, 0.        ]],\n",
       "\n",
       "       [[1.41421356, 0.        ],\n",
       "        [1.26686158, 0.        ],\n",
       "        [1.1439589 , 0.        ],\n",
       "        [1.05409255, 0.        ],\n",
       "        [1.0061539 , 0.        ],\n",
       "        [1.0061539 , 0.        ],\n",
       "        [1.05409255, 0.        ],\n",
       "        [1.1439589 , 0.        ],\n",
       "        [1.26686158, 0.        ],\n",
       "        [1.41421356, 0.        ]]])"
      ]
     },
     "execution_count": 30,
     "metadata": {},
     "output_type": "execute_result"
    }
   ],
   "source": [
    "def func(x, y):\n",
    "    return np.array([np.sqrt(x**2 + y**2), 0])\n",
    "\n",
    "_ = np.linspace(-1, 1, 10)\n",
    "X, Y = np.meshgrid(_, _)\n",
    "\n",
    "np.vectorize(func, signature='(),()->(n)')(X, Y)"
   ]
  },
  {
   "cell_type": "code",
   "execution_count": 37,
   "id": "19b7debd",
   "metadata": {},
   "outputs": [
    {
     "data": {
      "text/plain": [
       "2"
      ]
     },
     "execution_count": 37,
     "metadata": {},
     "output_type": "execute_result"
    }
   ],
   "source": [
    "X.ndim"
   ]
  },
  {
   "cell_type": "markdown",
   "id": "de33bc67-af3e-4c0c-ab45-d179b0c4944b",
   "metadata": {},
   "source": [
    "**Vector Plot**"
   ]
  },
  {
   "cell_type": "code",
   "execution_count": 75,
   "id": "62cd9e09-2921-4680-8c37-3117393e5d69",
   "metadata": {},
   "outputs": [],
   "source": [
    "import matplotlib.pyplot as plt"
   ]
  },
  {
   "cell_type": "code",
   "execution_count": 80,
   "id": "43ab9088-bd66-4d2b-9fc2-12ae62e610ae",
   "metadata": {},
   "outputs": [
    {
     "data": {
      "text/plain": [
       "<matplotlib.quiver.Quiver at 0x2510b5c0d90>"
      ]
     },
     "execution_count": 80,
     "metadata": {},
     "output_type": "execute_result"
    },
    {
     "data": {
      "image/png": "[encoded data removed]",
      "text/plain": [
       "<Figure size 640x480 with 1 Axes>"
      ]
     },
     "metadata": {},
     "output_type": "display_data"
    }
   ],
   "source": [
    "# Creating arrow\n",
    "x_pos = [0, 0]\n",
    "y_pos = [0, 0]\n",
    "x_direct = [1, 0]\n",
    "y_direct = [0, 1]\n",
    "\n",
    "plt.quiver(x_pos, y_pos, x_direct, y_direct)"
   ]
  },
  {
   "cell_type": "code",
   "execution_count": null,
   "id": "aeb30dd0-165f-4001-81fb-121ba52afbf0",
   "metadata": {},
   "outputs": [],
   "source": []
  }
 ],
 "metadata": {
  "kernelspec": {
   "display_name": "Python 3 (ipykernel)",
   "language": "python",
   "name": "python3"
  },
  "language_info": {
   "codemirror_mode": {
    "name": "ipython",
    "version": 3
   },
   "file_extension": ".py",
   "mimetype": "text/x-python",
   "name": "python",
   "nbconvert_exporter": "python",
   "pygments_lexer": "ipython3",
   "version": "3.11.7"
  }
 },
 "nbformat": 4,
 "nbformat_minor": 5
}
